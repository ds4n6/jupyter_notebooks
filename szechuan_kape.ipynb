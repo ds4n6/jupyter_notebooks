{
 "cells": [
  {
   "cell_type": "markdown",
   "metadata": {},
   "source": [
    "# **CASE VARIABLES** "
   ]
  },
  {
   "cell_type": "markdown",
   "metadata": {},
   "source": [
    "## **IMPORTS & INIT**"
   ]
  },
  {
   "cell_type": "code",
   "execution_count": 1,
   "metadata": {},
   "outputs": [],
   "source": [
    "# Data Science Imports\n",
    "import numpy as np\n",
    "import pandas as pd\n",
    "import matplotlib.pyplot as plt\n",
    "from IPython.display import display, Markdown\n",
    "\n",
    "# Visualization\n",
    "import matplotlib.pyplot as plt\n",
    "import seaborn as sns\n",
    "import pandas_bokeh\n",
    "from bokeh.io import output_notebook, show\n",
    "from bokeh.plotting import figure, output_file, show\n",
    "\n",
    "# DFIR Imports\n",
    "from timesketch_api_client import client\n",
    "from timesketch_api_client import config\n",
    "import timesketch_api_client\n",
    "\n",
    "# DS4N6\n",
    "from ds4n6_lib.common import analysis\n",
    "from ds4n6_lib.common import anl\n",
    "from ds4n6_lib.common import whatis\n",
    "from ds4n6_lib.unx    import xgrep\n",
    "from ds4n6_lib.gui    import read_data_gui\n",
    "from ds4n6_lib.gui    import xmenu\n",
    "from ds4n6_lib.gui    import xdisplay\n",
    "\n",
    "import ds4n6_lib.d4          as d4\n",
    "import ds4n6_lib.common      as d4com\n",
    "import ds4n6_lib.autoruns    as d4atrs\n",
    "import ds4n6_lib.fstl        as d4fstl\n",
    "import ds4n6_lib.plaso       as d4pl\n",
    "import ds4n6_lib.kansa       as d4ksa\n",
    "import ds4n6_lib.kape        as d4kp\n",
    "import ds4n6_lib.evtx        as d4evtx\n",
    "import ds4n6_lib.unx         as d4unx\n",
    "import ds4n6_lib.utils       as d4utl\n",
    "import ds4n6_lib.volatility  as d4vol\n",
    "import ds4n6_lib.gui         as d4gui\n",
    "\n",
    "# Standard python imports\n",
    "from time import sleep\n",
    "import datetime\n",
    "import time\n",
    "import re\n",
    "import os.path\n",
    "import nbformat as nbf\n",
    "import calendar\n",
    "import glob\n",
    "import xmltodict\n",
    "import untangle\n",
    "import importlib\n",
    "import logging\n",
    "\n",
    "# Data Save/Restore\n",
    "import dill\n",
    "import pickle\n",
    "import gdown\n",
    "\n",
    "import warnings\n",
    "warnings.filterwarnings(\"ignore\",category=DeprecationWarning)\n",
    "warnings.filterwarnings(\"ignore\",category=UserWarning)"
   ]
  },
  {
   "cell_type": "markdown",
   "metadata": {},
   "source": [
    "## **VARIABLES**"
   ]
  },
  {
   "cell_type": "code",
   "execution_count": 2,
   "metadata": {},
   "outputs": [],
   "source": [
    "home_path=!pwd\n",
    "thisnb=home_path[0]+\"/szechuan_kape.ipynb\""
   ]
  },
  {
   "cell_type": "markdown",
   "metadata": {},
   "source": [
    "## **READ DATA**"
   ]
  },
  {
   "cell_type": "code",
   "execution_count": 4,
   "metadata": {},
   "outputs": [
    {
     "name": "stderr",
     "output_type": "stream",
     "text": [
      "Downloading...\n",
      "From: https://drive.google.com/uc?id=1j6AyNWyrgkwGxEPcttYwbuIf7EzQmhto\n",
      "To: /home/jovyan/kape.tgz\n",
      "100%|██████████| 1.27M/1.27M [00:00<00:00, 112MB/s]\n"
     ]
    },
    {
     "data": {
      "text/plain": [
       "['kape/G__szechuan_kape_artifacts_F_Users_Administrator_ntuser.dat.csv',\n",
       " 'kape/G__szechuan_kape_artifacts_F_Users_Administrator_AppData_Local_Microsoft_Windows_UsrClass.dat.csv',\n",
       " 'kape/20201116033049_UserAssist_G_szechuan_kape_artifacts_F_Users_Administrator_ntuser.dat.csv',\n",
       " 'kape/20201116033049_TypedURLs_G_szechuan_kape_artifacts_F_Users_Administrator_ntuser.dat.csv',\n",
       " 'kape/20201116033049_TimeZoneInfo_G_szechuan_kape_artifacts_F_Windows_system32_config_SYSTEM.csv',\n",
       " 'kape/20201116033049_TerminalServerClient_G_szechuan_kape_artifacts_F_Users_Administrator_ntuser.dat.csv',\n",
       " 'kape/20201116033049_Services_G_szechuan_kape_artifacts_F_Windows_system32_config_SYSTEM.csv',\n",
       " 'kape/20201116033049_RECmd_Batch_RECmd_Batch_MC_Output.csv',\n",
       " 'kape/20201116033049_RecentDocs_G_szechuan_kape_artifacts_F_Users_Administrator_ntuser.dat.csv',\n",
       " 'kape/20201116033049_OpenSavePidlMRU_G_szechuan_kape_artifacts_F_Users_Administrator_ntuser.dat.csv',\n",
       " 'kape/20201116033049_MountedDevices_G_szechuan_kape_artifacts_F_Windows_system32_config_SYSTEM.csv',\n",
       " 'kape/20201116033049_LastVisitedPidlMRU_G_szechuan_kape_artifacts_F_Users_Administrator_ntuser.dat.csv',\n",
       " 'kape/20201116033049_KnownNetworks_G_szechuan_kape_artifacts_F_Windows_system32_config_SOFTWARE.csv',\n",
       " 'kape/20201116033049_FileExts_G_szechuan_kape_artifacts_F_Users_Administrator_ntuser.dat.csv',\n",
       " 'kape/20201116033049_CIDSizeMRU_G_szechuan_kape_artifacts_F_Users_Administrator_ntuser.dat.csv',\n",
       " 'kape/20201116033047_RBCmd_Output.csv',\n",
       " 'kape/20201116033046_LECmd_Output.csv',\n",
       " 'kape/20201116033046_CustomDestinations.csv',\n",
       " 'kape/20201116033046_AutomaticDestinations.csv',\n",
       " 'kape/20201116033009_EvtxECmd_Output.csv',\n",
       " 'kape/20201116033008_Windows81_Windows2012R2_SYSTEM_AppCompatCache.csv',\n",
       " 'kape/20201116033005_Amcache_UnassociatedFileEntries.csv',\n",
       " 'kape/20201116033005_Amcache_ProgramEntries.csv',\n",
       " 'kape/20201116033005_Amcache_AssociatedFileEntries.csv']"
      ]
     },
     "execution_count": 4,
     "metadata": {},
     "output_type": "execute_result"
    }
   ],
   "source": [
    "url = 'https://drive.google.com/uc?id=1j6AyNWyrgkwGxEPcttYwbuIf7EzQmhto'\n",
    "of = 'kape.tgz'\n",
    "gdown.download(url, of, quiet=False)\n",
    "gdown.extractall(\"kape.tgz\", to=\"kape/\")"
   ]
  },
  {
   "cell_type": "code",
   "execution_count": 5,
   "metadata": {},
   "outputs": [
    {
     "name": "stdout",
     "output_type": "stream",
     "text": [
      "- Searching notebook for saved input file / folder (_kaped)\n",
      "  + Found: /home/jovyan/kape\n",
      "\n",
      "- Reading file(s):\n",
      "  + Reading csv file 20201116033008_Windows81_Windows2012R2_SYSTEM_AppCompatCache.csv                                               into dataframe ->  Windows81_Windows2012R2_SYSTEM_AppCompatCache                                                        \n",
      "  + Reading csv file 20201116033049_CIDSizeMRU_G_szechuan_kape_artifacts_F_Users_Administrator_ntuser.dat.csv                       into dataframe ->  CIDSizeMRU-F_Users_Administrator_ntuser.dat                                                          \n",
      "  + Reading csv file 20201116033049_OpenSavePidlMRU_G_szechuan_kape_artifacts_F_Users_Administrator_ntuser.dat.csv                  into dataframe ->  OpenSavePidlMRU-F_Users_Administrator_ntuser.dat                                                     \n",
      "  + Reading csv file G__szechuan_kape_artifacts_F_Users_Administrator_ntuser.dat.csv                                                into dataframe ->  F_Users_Administrator_ntuser.dat                                                                     \n",
      "  + Reading csv file 20201116033049_TerminalServerClient_G_szechuan_kape_artifacts_F_Users_Administrator_ntuser.dat.csv             into dataframe ->  TerminalServerClient-F_Users_Administrator_ntuser.dat                                                \n",
      "  + Reading csv file G__szechuan_kape_artifacts_F_Users_Administrator_AppData_Local_Microsoft_Windows_UsrClass.dat.csv              into dataframe ->  F_Users_Administrator_AppData_Local_Microsoft_Windows_UsrClass.dat                                   \n",
      "  + Reading csv file 20201116033049_KnownNetworks_G_szechuan_kape_artifacts_F_Windows_system32_config_SOFTWARE.csv                  into dataframe ->  KnownNetworks-F_Windows_system32_config_SOFTWARE                                                     \n",
      "  + Reading csv file 20201116033046_LECmd_Output.csv                                                                                into dataframe ->  LECmd                                                                                                \n",
      "  + Reading csv file 20201116033047_RBCmd_Output.csv                                                                                into dataframe ->  RBCmd                                                                                                \n",
      "  + Reading csv file 20201116033049_MountedDevices_G_szechuan_kape_artifacts_F_Windows_system32_config_SYSTEM.csv                   into dataframe ->  MountedDevices-F_Windows_system32_config_SYSTEM                                                      \n",
      "  + Reading csv file 20201116033009_EvtxECmd_Output.csv                                                                             into dataframe ->  EvtxECmd                                                                                             \n"
     ]
    },
    {
     "name": "stderr",
     "output_type": "stream",
     "text": [
      "/srv/conda/envs/notebook/lib/python3.7/site-packages/ds4n6_lib/gui.py:127: DtypeWarning: Columns (11,13,14,15,16,17,21) have mixed types.Specify dtype option on import or set low_memory=False.\n",
      "  read_selected_file(dummy, compname=compname, f2read=f2read, nbsave_prefix=nbsave_prefix, **kwargs)\n"
     ]
    },
    {
     "name": "stdout",
     "output_type": "stream",
     "text": [
      "  + Reading csv file 20201116033049_LastVisitedPidlMRU_G_szechuan_kape_artifacts_F_Users_Administrator_ntuser.dat.csv               into dataframe ->  LastVisitedPidlMRU-F_Users_Administrator_ntuser.dat                                                  \n",
      "  + Reading csv file 20201116033046_CustomDestinations.csv                                                                          into dataframe ->  CustomDestinations                                                                                   \n",
      "  + Reading csv file 20201116033049_Services_G_szechuan_kape_artifacts_F_Windows_system32_config_SYSTEM.csv                         into dataframe ->  Services-F_Windows_system32_config_SYSTEM                                                            \n",
      "  + Reading csv file 20201116033005_Amcache_UnassociatedFileEntries.csv                                                             into dataframe ->  Amcache_UnassociatedFileEntries                                                                      \n",
      "  + Reading csv file 20201116033046_AutomaticDestinations.csv                                                                       into dataframe ->  AutomaticDestinations                                                                                \n",
      "  + Reading csv file 20201116033049_RECmd_Batch_RECmd_Batch_MC_Output.csv                                                           into dataframe ->  RECmd_Batch_RECmd_Batch_MC                                                                           \n",
      "  + Reading csv file 20201116033049_RecentDocs_G_szechuan_kape_artifacts_F_Users_Administrator_ntuser.dat.csv                       into dataframe ->  RecentDocs-F_Users_Administrator_ntuser.dat                                                          \n",
      "  + Reading csv file 20201116033005_Amcache_AssociatedFileEntries.csv                                                               into dataframe ->  Amcache_AssociatedFileEntries                                                                        \n",
      "  + Reading csv file 20201116033049_FileExts_G_szechuan_kape_artifacts_F_Users_Administrator_ntuser.dat.csv                         into dataframe ->  FileExts-F_Users_Administrator_ntuser.dat                                                            \n",
      "  + Reading csv file 20201116033049_TypedURLs_G_szechuan_kape_artifacts_F_Users_Administrator_ntuser.dat.csv                        into dataframe ->  TypedURLs-F_Users_Administrator_ntuser.dat                                                           \n",
      "  + Reading csv file 20201116033049_UserAssist_G_szechuan_kape_artifacts_F_Users_Administrator_ntuser.dat.csv                       into dataframe ->  UserAssist-F_Users_Administrator_ntuser.dat                                                          \n",
      "  + Reading csv file 20201116033049_TimeZoneInfo_G_szechuan_kape_artifacts_F_Windows_system32_config_SYSTEM.csv                     into dataframe ->  TimeZoneInfo-F_Windows_system32_config_SYSTEM                                                        \n",
      "  + Reading csv file 20201116033005_Amcache_ProgramEntries.csv                                                                      into dataframe ->  Amcache_ProgramEntries                                                                               \n",
      "\n",
      "\n",
      "NOTE: Now you can use the syntax <yourvar>['Category'] to access your dataframe\n",
      "\n",
      "- Saving Harmonized DataFrames dict (dfs) as pickle file:\n",
      "    /home/jovyan/kape.ham.pkl\n",
      "- Done.\n",
      "\n",
      "- Reading Done.\n",
      "\n",
      "- Recover the object read by executing:  myvar = d4.out (e.g. mydf = d4.out)\n",
      "\n",
      "CPU times: user 2.29 s, sys: 261 ms, total: 2.56 s\n",
      "Wall time: 2.63 s\n"
     ]
    }
   ],
   "source": [
    "%%time\n",
    "\n",
    "d4.debug = 0\n",
    "\n",
    "# Read raw data\n",
    "read_data_gui(tool=\"kape\", rootpath=home_path[0]+\"/kape\", folder_parsing_mode=\"single_host_with_categories\", path_prefix=\"G__szechuan_kape_artifacts\", pluginisdfname=True, notebook_file=thisnb)"
   ]
  },
  {
   "cell_type": "code",
   "execution_count": 6,
   "metadata": {},
   "outputs": [],
   "source": [
    "kpdfs = d4.out"
   ]
  },
  {
   "cell_type": "code",
   "execution_count": 7,
   "metadata": {},
   "outputs": [],
   "source": [
    "# Automatically created - DO NOT EDIT OR REMOVE unless you want to change the file to read (in that case, remove this cell)\n",
    "# 2021-04-06 15:36:22.410739\n",
    "# _kaped_f2read = \"/home/jovyan/kape\""
   ]
  },
  {
   "cell_type": "markdown",
   "metadata": {},
   "source": [
    "## **ANALYSIS**"
   ]
  },
  {
   "cell_type": "markdown",
   "metadata": {},
   "source": [
    "### **GENERIC**"
   ]
  },
  {
   "cell_type": "code",
   "execution_count": 8,
   "metadata": {},
   "outputs": [
    {
     "data": {
      "text/markdown": [
       "#### Pandas options"
      ],
      "text/plain": [
       "<IPython.core.display.Markdown object>"
      ]
     },
     "metadata": {},
     "output_type": "display_data"
    },
    {
     "data": {
      "application/vnd.jupyter.widget-view+json": {
       "model_id": "82392cbd1d5745f7946f77bf99476de9",
       "version_major": 2,
       "version_minor": 0
      },
      "text/plain": [
       "IntText(value=60, description='display.max_rows: ', style=DescriptionStyle(description_width='initial'))"
      ]
     },
     "metadata": {},
     "output_type": "display_data"
    },
    {
     "data": {
      "application/vnd.jupyter.widget-view+json": {
       "model_id": "fb5ff920f6f8439e817e3a118c636e52",
       "version_major": 2,
       "version_minor": 0
      },
      "text/plain": [
       "IntText(value=10, description='display.min_rows: ', style=DescriptionStyle(description_width='initial'))"
      ]
     },
     "metadata": {},
     "output_type": "display_data"
    },
    {
     "data": {
      "application/vnd.jupyter.widget-view+json": {
       "model_id": "9d0a3271e6fc4ad6844316e909e2951d",
       "version_major": 2,
       "version_minor": 0
      },
      "text/plain": [
       "IntText(value=20, description='display.max_columns: ', style=DescriptionStyle(description_width='initial'))"
      ]
     },
     "metadata": {},
     "output_type": "display_data"
    },
    {
     "data": {
      "application/vnd.jupyter.widget-view+json": {
       "model_id": "af29e9d5a52c4036b0d0e0548f61e125",
       "version_major": 2,
       "version_minor": 0
      },
      "text/plain": [
       "Dropdown(description='display.colheader_justify: ', options=('right', 'left'), style=DescriptionStyle(descript…"
      ]
     },
     "metadata": {},
     "output_type": "display_data"
    },
    {
     "data": {
      "application/vnd.jupyter.widget-view+json": {
       "model_id": "60f71b9183d94156bb35456f182b08ab",
       "version_major": 2,
       "version_minor": 0
      },
      "text/plain": [
       "Checkbox(value=True, description='display.expand_frame_repr', indent=False, style=DescriptionStyle(description…"
      ]
     },
     "metadata": {},
     "output_type": "display_data"
    }
   ],
   "source": [
    "xdisplay()"
   ]
  },
  {
   "cell_type": "code",
   "execution_count": 9,
   "metadata": {
    "scrolled": true
   },
   "outputs": [
    {
     "data": {
      "text/markdown": [
       "**DataFrame visualization menu:**"
      ],
      "text/plain": [
       "<IPython.core.display.Markdown object>"
      ]
     },
     "metadata": {},
     "output_type": "display_data"
    },
    {
     "data": {
      "application/vnd.jupyter.widget-view+json": {
       "model_id": "e693e37f204a4c2e811043d9bd3da682",
       "version_major": 2,
       "version_minor": 0
      },
      "text/plain": [
       "Box(children=(Dropdown(description='Select DataFrame', layout=Layout(width='550px'), options=('Select DataFram…"
      ]
     },
     "metadata": {},
     "output_type": "display_data"
    },
    {
     "data": {
      "application/vnd.jupyter.widget-view+json": {
       "model_id": "13a72b2b51bc4ccb86c09102bbf09d3a",
       "version_major": 2,
       "version_minor": 0
      },
      "text/plain": [
       "HBox(children=(Label(value='Selected dataframe: '),))"
      ]
     },
     "metadata": {},
     "output_type": "display_data"
    },
    {
     "data": {
      "application/vnd.jupyter.widget-view+json": {
       "model_id": "73ab5458fa0b4b70be97941dcbe21ce7",
       "version_major": 2,
       "version_minor": 0
      },
      "text/plain": [
       "HBox(children=(HTML(value=\"<div style='color: orange; font-weight: bold;'>Data Loading. Please Wait…</div>\"),)…"
      ]
     },
     "metadata": {},
     "output_type": "display_data"
    },
    {
     "data": {
      "application/vnd.jupyter.widget-view+json": {
       "model_id": "1b2a8c9e146148bbae2943c4fcbc12a0",
       "version_major": 2,
       "version_minor": 0
      },
      "text/plain": [
       "Output(layout=Layout(overflow='auto', width='99%'))"
      ]
     },
     "metadata": {},
     "output_type": "display_data"
    },
    {
     "data": {
      "application/vnd.jupyter.widget-view+json": {
       "model_id": "5362b6ee5fd647c0b26bd735a6c0f5fc",
       "version_major": 2,
       "version_minor": 0
      },
      "text/plain": [
       "Output(layout=Layout(overflow='auto', width='99%'))"
      ]
     },
     "metadata": {},
     "output_type": "display_data"
    },
    {
     "data": {
      "text/plain": [
       "<ds4n6_lib.gui.dfs_explorer at 0x7fa8796bf990>"
      ]
     },
     "execution_count": 9,
     "metadata": {},
     "output_type": "execute_result"
    }
   ],
   "source": [
    "xmenu(kpdfs)"
   ]
  }
 ],
 "metadata": {
  "kernelspec": {
   "display_name": "Python 3",
   "language": "python",
   "name": "python3"
  },
  "language_info": {
   "codemirror_mode": {
    "name": "ipython",
    "version": 3
   },
   "file_extension": ".py",
   "mimetype": "text/x-python",
   "name": "python",
   "nbconvert_exporter": "python",
   "pygments_lexer": "ipython3",
   "version": "3.7.6"
  }
 },
 "nbformat": 4,
 "nbformat_minor": 4
}
