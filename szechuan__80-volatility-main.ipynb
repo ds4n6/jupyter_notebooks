{
 "cells": [
  {
   "cell_type": "markdown",
   "metadata": {},
   "source": [
    "# **CASENAME_REPLACEME - 80 - VOLATILITY - MAIN**"
   ]
  },
  {
   "cell_type": "markdown",
   "metadata": {},
   "source": [
    "## **FUNCTIONS, VARS, INIT**"
   ]
  },
  {
   "cell_type": "code",
   "execution_count": 1,
   "metadata": {},
   "outputs": [
    {
     "data": {
      "text/html": [
       "<style>\n",
       "table {float:left}\n",
       "</style>\n"
      ],
      "text/plain": [
       "<IPython.core.display.HTML object>"
      ]
     },
     "metadata": {},
     "output_type": "display_data"
    }
   ],
   "source": [
    "# Define your notebook full file path here to be able to automatically store runtime configuration settings in this notebook\n",
    "thisnb=\"/mnt/analysis/dev/testing_system/test_notebooks/szechuan__80-volatility-main.ipynb\"\n",
    "\n",
    "# Set casename here. This notebook must be renamed with that name.\n",
    "%run szechuan__00_imports_case_variables.ipynb"
   ]
  },
  {
   "cell_type": "code",
   "execution_count": 2,
   "metadata": {},
   "outputs": [],
   "source": [
    "tool = 'volatility'"
   ]
  },
  {
   "cell_type": "raw",
   "metadata": {},
   "source": [
    "# TO BE COPIED TO OTHER NOTEBOOKS FOR CODE DEBUGGING\n",
    "\n",
    "# importlib.reload(d4pl)\n",
    "importlib.reload(d4com)\n",
    "importlib.reload(d4gui)\n",
    "importlib.reload(d4vol)"
   ]
  },
  {
   "cell_type": "markdown",
   "metadata": {},
   "source": [
    "---"
   ]
  },
  {
   "cell_type": "markdown",
   "metadata": {},
   "source": [
    "## **READ FILES**"
   ]
  },
  {
   "cell_type": "markdown",
   "metadata": {},
   "source": [
    "### **COMPNAME_REPLACEME**"
   ]
  },
  {
   "cell_type": "code",
   "execution_count": 3,
   "metadata": {},
   "outputs": [],
   "source": [
    "# Enter computer name here (i.e. evidence file prefix, e.g. compname = \"dsk1723\")\n",
    "compname = 'desktop-memory'\n",
    "hostname = 'desktop'"
   ]
  },
  {
   "cell_type": "markdown",
   "metadata": {},
   "source": [
    "#### **PATH DEFINITIONS**"
   ]
  },
  {
   "cell_type": "markdown",
   "metadata": {},
   "source": [
    "##### **FOREST**"
   ]
  },
  {
   "cell_type": "markdown",
   "metadata": {},
   "source": [
    "**comp**<br>\n",
    "Use this configuration if you have a single computer, and its kape evidence is under the comp folder"
   ]
  },
  {
   "cell_type": "code",
   "execution_count": 4,
   "metadata": {},
   "outputs": [],
   "source": [
    "compod  = caseod+'/f4n6/comps/'+compname\n",
    "vold = compod+'/'+tool"
   ]
  },
  {
   "cell_type": "markdown",
   "metadata": {},
   "source": [
    "#### **READ DATA**"
   ]
  },
  {
   "cell_type": "raw",
   "metadata": {},
   "source": [
    "# TO BE COPIED TO OTHER NOTEBOOKS FOR CODE DEBUGGING\n",
    "\n",
    "# importlib.reload(d4pl)\n",
    "importlib.reload(d4com)\n",
    "importlib.reload(d4gui)\n",
    "importlib.reload(d4vol)"
   ]
  },
  {
   "cell_type": "code",
   "execution_count": 5,
   "metadata": {},
   "outputs": [],
   "source": [
    "# Automatically created - DO NOT EDIT OR REMOVE unless you want to change the file to read (in that case, remove this cell)\n",
    "# 2021-01-17 07:30:06.651523\n",
    "# desktop_volatilityd_f2read = \"/mnt/analysis/cases/szechuan/f4n6/comps/desktop-memory/volatility\""
   ]
  },
  {
   "cell_type": "code",
   "execution_count": 6,
   "metadata": {},
   "outputs": [
    {
     "name": "stdout",
     "output_type": "stream",
     "text": [
      "- Searching notebook for saved input file / folder (desktop_volatilityd)\n",
      "  + Found: /mnt/analysis/cases/szechuan/f4n6/comps/desktop-memory/volatility\n",
      "\n",
      "- Reading file(s):\n",
      "  + INFO: 90 files found to read.\n",
      "\n",
      "  + [1/90] vol-sessions.out.txt.psv                                     -> sessions                                [Empty]\n",
      "  + [2/90] vol-psxview.out.txt.psv                                      -> psxview                                 [98]\n",
      "  + [3/90] vol-vadwalk.out.txt.psv                                      -> vadwalk                                 [ERROR]\n",
      "  + [4/90] vol-thrdscan.out.txt.psv                                     -> thrdscan                                [365]\n",
      "  + [5/90] vol-pslist.out.txt.psv                                       -> pslist                                  [84]\n",
      "  + [6/90] vol-eventhooks.out.txt.psv                                   -> eventhooks                              [Empty]\n",
      "  + [7/90] vol-mimikatz.out.txt.psv                                     -> mimikatz                                [Empty]\n",
      "  + [8/90] vol-vboxinfo.out.txt.psv                                     -> vboxinfo                                [Empty]\n",
      "  + [9/90] vol-vadinfo.out.txt.psv                                      -> vadinfo                                 [ERROR]\n",
      "  + [10/90] vol-messagehooks.out.txt.psv                                 -> messagehooks                            [0]\n",
      "  + [11/90] vol-memmap.out.txt.psv                                       -> memmap                                  [1262343]\n",
      "  + [12/90] vol-gditimers.out.txt.psv                                    -> gditimers                               [Empty]\n",
      "  + [13/90] vol-ssdt.out.txt.psv                                         -> ssdt                                    [2]\n",
      "  + [14/90] vol-screenshot.out.txt.psv                                   -> screenshot                              [Empty]\n",
      "  + [15/90] vol-machoinfo.out.txt.psv                                    -> machoinfo                               [Empty]\n",
      "  + [16/90] vol-vadtree.out.txt.psv                                      -> vadtree                                 [ERROR]\n",
      "  + [17/90] vol-userassist.out.txt.psv                                   -> userassist                              [0]\n",
      "  + [18/90] vol-cmdscan.out.txt.psv                                      -> cmdscan                                 [0]\n",
      "  + [19/90] vol-hashdump.out.txt.psv                                     -> hashdump                                [1]\n",
      "  + [20/90] vol-devicetree.out.txt.psv                                   -> devicetree                              [83]\n",
      "  + [21/90] vol-crashinfo.out.txt.psv                                    -> crashinfo                               [Empty]\n",
      "  + [22/90] vol-psscan.out.txt.psv                                       -> psscan                                  [57]\n",
      "  + [23/90] vol-gdt.out.txt.psv                                          -> gdt                                     [Empty]\n",
      "  + [24/90] vol-callbacks.out.txt.psv                                    -> callbacks                               [32]\n",
      "  + [25/90] vol-apihooks.out.txt.psv                                     -> apihooks                                [869]\n",
      "  + [26/90] vol-dumpcerts.out.txt.psv                                    -> dumpcerts                               [0]\n",
      "  + [27/90] vol-malfind.out.txt.psv                                      -> malfind                                 [4]\n",
      "  + [28/90] vol-truecryptmaster.out.txt.psv                              -> truecryptmaster                         [Empty]\n",
      "  + [29/90] vol-lsadump.out.txt.psv                                      -> lsadump                                 [Empty]\n",
      "  + [30/90] vol-symlinkscan.out.txt.psv                                  -> symlinkscan                             [249]\n",
      "  + [31/90] vol-atomscan.out.txt.psv                                     -> atomscan                                [218]\n",
      "  + [32/90] vol-connscan.out.txt.psv                                     -> connscan                                [Empty]\n",
      "  + [33/90] vol-multiscan.out.txt.psv                                    -> multiscan                               [Empty]\n",
      "  + [34/90] vol-bioskbd.out.txt.psv                                      -> bioskbd                                 [0]\n",
      "  + [35/90] vol-pstree.out.txt.psv                                       -> pstree                                  [83]\n",
      "  + [36/90] vol-truecryptsummary.out.txt.psv                             -> truecryptsummary                        [Empty]\n",
      "  + [37/90] vol-mutantscan.out.txt.psv                                   -> mutantscan                              [478]\n",
      "  + [38/90] vol-wintree.out.txt.psv                                      -> wintree                                 [0]\n",
      "  + [39/90] vol-mftparser.out.txt.psv                                    -> mftparser                               "
     ]
    },
    {
     "name": "stderr",
     "output_type": "stream",
     "text": [
      "/mnt/analysis/dev/testing_system/test_notebooks/ds4n6_lib/gui.py:133: DtypeWarning: Columns (0,2) have mixed types.Specify dtype option on import or set low_memory=False.\n",
      "  read_selected_file(dummy, compname=compname, f2read=f2read, nbsave_prefix=nbsave_prefix, **kwargs)\n"
     ]
    },
    {
     "name": "stdout",
     "output_type": "stream",
     "text": [
      "[80366]\n",
      "  + [40/90] vol-privs.out.txt.psv                                        -> privs                                   [2754]\n",
      "  + [41/90] vol-timers.out.txt.psv                                       -> timers                                  [63]\n",
      "  + [42/90] vol-shimcache.out.txt.psv                                    -> shimcache                               [0]\n",
      "  + [43/90] vol-idt.out.txt.psv                                          -> idt                                     [Empty]\n",
      "  + [44/90] vol-sockets.out.txt.psv                                      -> sockets                                 [Empty]\n",
      "  + [45/90] vol-svcscan.out.txt.psv                                      -> svcscan                                 [ERROR]\n",
      "  + [46/90] vol-getservicesids.out.txt.psv                               -> getservicesids                          [461]\n",
      "  + [47/90] vol-wndscan.out.txt.psv                                      -> wndscan                                 [Empty]\n",
      "  + [48/90] vol-hivescan.out.txt.psv                                     -> hivescan                                [113]\n",
      "  + [49/90] vol-hibinfo.out.txt.psv                                      -> hibinfo                                 [Empty]\n",
      "  + [50/90] vol-ldrmodules.out.txt.psv                                   -> ldrmodules                              [171]\n",
      "  + [51/90] vol-driverscan.out.txt.psv                                   -> driverscan                              [83]\n",
      "  + [52/90] vol-hpakextract.out.txt.psv                                  -> hpakextract                             [Empty]\n",
      "  + [53/90] vol-hpakinfo.out.txt.psv                                     -> hpakinfo                                [Empty]\n",
      "  + [54/90] vol-filescan.out.txt.psv                                     -> filescan                                [ERROR]\n",
      "  + [55/90] vol-imageinfo.out.txt.psv                                    -> imageinfo                               [1]\n",
      "  + [56/90] vol-printkey-run.out.txt.psv                                 -> printkey-run                            [0]\n",
      "  + [57/90] vol-handles.out.txt.psv                                      -> handles                                 [ERROR]\n",
      "  + [58/90] vol-connections.out.txt.psv                                  -> connections                             [Empty]\n",
      "  + [59/90] vol-userhandles.out.txt.psv                                  -> userhandles                             [Empty]\n",
      "  + [60/90] vol-impscan.out.txt.psv                                      -> impscan                                 [0]\n",
      "  + [61/90] vol-usnparser.out.txt.psv                                    -> usnparser                               [Empty]\n",
      "  + [62/90] vol-patcher.out.txt.psv                                      -> patcher                                 [0]\n",
      "  + [63/90] vol-sockscan.out.txt.psv                                     -> sockscan                                [Empty]\n",
      "  + [64/90] vol-getsids.out.txt.psv                                      -> getsids                                 [1117]\n",
      "  + [65/90] vol-kpcrscan.out.txt.psv                                     -> kpcrscan                                [Empty]\n",
      "  + [66/90] vol-moddump.out.txt.psv                                      -> moddump                                 [193]\n",
      "  + [67/90] vol-deskscan.out.txt.psv                                     -> deskscan                                [0]\n",
      "  + [68/90] vol-evtlogs.out.txt.psv                                      -> evtlogs                                 [Empty]\n",
      "  + [69/90] vol-consoles.out.txt.psv                                     -> consoles                                [0]\n",
      "  + [70/90] vol-iehistory.out.txt.psv                                    -> iehistory                               [Empty]\n",
      "  + [71/90] vol-mbrparser.out.txt.psv                                    -> mbrparser                               [116]\n",
      "  + [72/90] vol-envars.out.txt.psv                                       -> envars                                  [722]\n",
      "  + [73/90] vol-windows.out.txt.psv                                      -> windows                                 [0]\n",
      "  + [74/90] vol-cachedump.out.txt.psv                                    -> cachedump                               [Empty]\n",
      "  + [75/90] vol-unloadedmodules.out.txt.psv                              -> unloadedmodules                         [10]\n",
      "  + [76/90] vol-threads.out.txt.psv                                      -> threads                                 [11539]\n",
      "  + [77/90] vol-driverirp.out.txt.psv                                    -> driverirp                               [83]\n",
      "  + [78/90] vol-kdbgscan.out.txt.psv                                     -> kdbgscan                                [Empty]\n",
      "  + [79/90] vol-hivelist.out.txt.psv                                     -> hivelist                                [32]\n",
      "  + [80/90] vol-vmwareinfo.out.txt.psv                                   -> vmwareinfo                              [Empty]\n",
      "  + [81/90] vol-timeliner.out.txt.psv                                    -> timeliner                               [1965]\n",
      "  + [82/90] vol-dlldump.out.txt.psv                                      -> dlldump                                 [986]\n",
      "  + [83/90] vol-dlllist.out.txt.psv                                      -> dlllist                                 [1026]\n",
      "  + [84/90] vol-truecryptpassphr.out.txt.psv                             -> truecryptpassphr                        [Empty]\n",
      "  + [85/90] vol-modscan.out.txt.psv                                      -> modscan                                 [195]\n",
      "  + [86/90] vol-clipboard.out.txt.psv                                    -> clipboard                               [0]\n",
      "  + [87/90] vol-gahti.out.txt.psv                                        -> gahti                                   [0]\n",
      "  + [88/90] vol-shellbags.out.txt.psv                                    -> shellbags                               [ERROR]\n",
      "  + [89/90] vol-atoms.out.txt.psv                                        -> atoms                                   [218]\n",
      "  + [90/90] vol-modules.out.txt.psv                                      -> modules                                 [193]\n",
      "\n",
      "\n",
      "- Reading Done.\n",
      "\n",
      "- Recover the object read by executing:  myvar = d4.out (e.g. mydf = d4.out)\n",
      "\n"
     ]
    }
   ],
   "source": [
    "read_data_gui(tool=\"volatility\", rootpath=vold, prefix=\"vol-\", notebook_file=thisnb, hostname=hostname, ext=\".out.txt.psv\", separator=\"|\", drop_non_ham_cols=False, use_pickle=False)"
   ]
  },
  {
   "cell_type": "code",
   "execution_count": 7,
   "metadata": {},
   "outputs": [],
   "source": [
    "voldfs = d4.out"
   ]
  },
  {
   "cell_type": "markdown",
   "metadata": {},
   "source": [
    "---"
   ]
  },
  {
   "cell_type": "markdown",
   "metadata": {},
   "source": [
    "## **ANALYSIS**"
   ]
  },
  {
   "cell_type": "markdown",
   "metadata": {},
   "source": [
    "### **GENERIC**"
   ]
  },
  {
   "cell_type": "code",
   "execution_count": 8,
   "metadata": {},
   "outputs": [
    {
     "data": {
      "text/markdown": [
       "#### Pandas options"
      ],
      "text/plain": [
       "<IPython.core.display.Markdown object>"
      ]
     },
     "metadata": {},
     "output_type": "display_data"
    },
    {
     "data": {
      "application/vnd.jupyter.widget-view+json": {
       "model_id": "9d8cc4bc04a341d788bca26df9b9dd7d",
       "version_major": 2,
       "version_minor": 0
      },
      "text/plain": [
       "IntText(value=700, description='display.max_rows: ', style=DescriptionStyle(description_width='initial'))"
      ]
     },
     "metadata": {},
     "output_type": "display_data"
    },
    {
     "data": {
      "application/vnd.jupyter.widget-view+json": {
       "model_id": "1e58dd711924408eb811b6173f0c8bd8",
       "version_major": 2,
       "version_minor": 0
      },
      "text/plain": [
       "IntText(value=10, description='display.min_rows: ', style=DescriptionStyle(description_width='initial'))"
      ]
     },
     "metadata": {},
     "output_type": "display_data"
    },
    {
     "data": {
      "application/vnd.jupyter.widget-view+json": {
       "model_id": "c1c105b9735340cd89f7d3496fec8746",
       "version_major": 2,
       "version_minor": 0
      },
      "text/plain": [
       "IntText(value=0, description='display.max_columns: ', style=DescriptionStyle(description_width='initial'))"
      ]
     },
     "metadata": {},
     "output_type": "display_data"
    },
    {
     "data": {
      "application/vnd.jupyter.widget-view+json": {
       "model_id": "dec52e8fdc994a1da44983213d8374f3",
       "version_major": 2,
       "version_minor": 0
      },
      "text/plain": [
       "Dropdown(description='display.colheader_justify: ', index=1, options=('right', 'left'), style=DescriptionStyle…"
      ]
     },
     "metadata": {},
     "output_type": "display_data"
    },
    {
     "data": {
      "application/vnd.jupyter.widget-view+json": {
       "model_id": "84eff1ae22d04c5fb6d9cd4a2c71ab8b",
       "version_major": 2,
       "version_minor": 0
      },
      "text/plain": [
       "Checkbox(value=True, description='display.expand_frame_repr', indent=False, style=DescriptionStyle(description…"
      ]
     },
     "metadata": {},
     "output_type": "display_data"
    }
   ],
   "source": [
    "xdisplay()"
   ]
  },
  {
   "cell_type": "code",
   "execution_count": 9,
   "metadata": {},
   "outputs": [
    {
     "data": {
      "text/markdown": [
       "**DataFrame visualization menu:**"
      ],
      "text/plain": [
       "<IPython.core.display.Markdown object>"
      ]
     },
     "metadata": {},
     "output_type": "display_data"
    },
    {
     "data": {
      "application/vnd.jupyter.widget-view+json": {
       "model_id": "a2be54e972694cd6a87cfe00817e8ec1",
       "version_major": 2,
       "version_minor": 0
      },
      "text/plain": [
       "Box(children=(Dropdown(description='Select DataFrame', layout=Layout(width='550px'), options=('Select DataFram…"
      ]
     },
     "metadata": {},
     "output_type": "display_data"
    },
    {
     "data": {
      "application/vnd.jupyter.widget-view+json": {
       "model_id": "99a5d4ffc4bb4636b3cc21d75631d025",
       "version_major": 2,
       "version_minor": 0
      },
      "text/plain": [
       "HBox(children=(Label(value='Selected dataframe: '),))"
      ]
     },
     "metadata": {},
     "output_type": "display_data"
    },
    {
     "data": {
      "application/vnd.jupyter.widget-view+json": {
       "model_id": "ee4171d46d3c46409598ec83e9fd64e0",
       "version_major": 2,
       "version_minor": 0
      },
      "text/plain": [
       "HBox(children=(HTML(value=\"<div style='color: orange; font-weight: bold;'>Data Loading. Please Wait…</div>\"),)…"
      ]
     },
     "metadata": {},
     "output_type": "display_data"
    },
    {
     "data": {
      "application/vnd.jupyter.widget-view+json": {
       "model_id": "54f0795b0b7d4139a1065e9247b878b7",
       "version_major": 2,
       "version_minor": 0
      },
      "text/plain": [
       "Output(layout=Layout(overflow='auto', width='99%'))"
      ]
     },
     "metadata": {},
     "output_type": "display_data"
    },
    {
     "data": {
      "application/vnd.jupyter.widget-view+json": {
       "model_id": "5113eb3ba4d04d629377469c0b5d991f",
       "version_major": 2,
       "version_minor": 0
      },
      "text/plain": [
       "Output(layout=Layout(overflow='auto', width='99%'))"
      ]
     },
     "metadata": {},
     "output_type": "display_data"
    },
    {
     "data": {
      "text/plain": [
       "<ds4n6_lib.gui.dfs_explorer at 0x7f5120ee5290>"
      ]
     },
     "execution_count": 9,
     "metadata": {},
     "output_type": "execute_result"
    }
   ],
   "source": [
    "xmenu(voldfs)"
   ]
  },
  {
   "cell_type": "code",
   "execution_count": 10,
   "metadata": {},
   "outputs": [],
   "source": [
    "df = d4.out"
   ]
  },
  {
   "cell_type": "code",
   "execution_count": 11,
   "metadata": {},
   "outputs": [
    {
     "data": {
      "text/markdown": [
       "**Analisys explorer:**"
      ],
      "text/plain": [
       "<IPython.core.display.Markdown object>"
      ]
     },
     "metadata": {},
     "output_type": "display_data"
    },
    {
     "data": {
      "application/vnd.jupyter.widget-view+json": {
       "model_id": "3893789950364e53ada650d8b487e5e2",
       "version_major": 2,
       "version_minor": 0
      },
      "text/plain": [
       "Dropdown(description='Available analysis types: ', layout=Layout(width='550px'), options=(('Select analysis ty…"
      ]
     },
     "metadata": {},
     "output_type": "display_data"
    },
    {
     "data": {
      "application/vnd.jupyter.widget-view+json": {
       "model_id": "1c3f9dfadd1c4ac98363d29dea536831",
       "version_major": 2,
       "version_minor": 0
      },
      "text/plain": [
       "Output(layout=Layout(overflow='auto', width='99%'))"
      ]
     },
     "metadata": {},
     "output_type": "display_data"
    }
   ],
   "source": [
    "d4gui.xanalysis(voldfs)"
   ]
  },
  {
   "cell_type": "code",
   "execution_count": 12,
   "metadata": {},
   "outputs": [
    {
     "name": "stdout",
     "output_type": "stream",
     "text": [
      "Syntax: analysis(obj, \"analysis_type\")\n",
      "\n",
      "Available volatility analysis types:\n",
      "- volatility_files:  No.events volatility file (Input: voldfs)\n"
     ]
    }
   ],
   "source": [
    "anl(voldfs)"
   ]
  },
  {
   "cell_type": "code",
   "execution_count": 13,
   "metadata": {},
   "outputs": [
    {
     "data": {
      "text/html": [
       "<div>\n",
       "<style scoped>\n",
       "    .dataframe tbody tr th:only-of-type {\n",
       "        vertical-align: middle;\n",
       "    }\n",
       "\n",
       "    .dataframe tbody tr th {\n",
       "        vertical-align: top;\n",
       "    }\n",
       "\n",
       "    .dataframe thead th {\n",
       "        text-align: right;\n",
       "    }\n",
       "</style>\n",
       "<table border=\"1\" class=\"dataframe\">\n",
       "  <thead>\n",
       "    <tr style=\"text-align: left;\">\n",
       "      <th></th>\n",
       "      <th>NEntries</th>\n",
       "      <th>VolFile</th>\n",
       "    </tr>\n",
       "  </thead>\n",
       "  <tbody>\n",
       "    <tr>\n",
       "      <th>0</th>\n",
       "      <td>869</td>\n",
       "      <td>apihooks</td>\n",
       "    </tr>\n",
       "    <tr>\n",
       "      <th>1</th>\n",
       "      <td>218</td>\n",
       "      <td>atoms</td>\n",
       "    </tr>\n",
       "    <tr>\n",
       "      <th>2</th>\n",
       "      <td>218</td>\n",
       "      <td>atomscan</td>\n",
       "    </tr>\n",
       "    <tr>\n",
       "      <th>3</th>\n",
       "      <td>0</td>\n",
       "      <td>bioskbd</td>\n",
       "    </tr>\n",
       "    <tr>\n",
       "      <th>4</th>\n",
       "      <td>0</td>\n",
       "      <td>cachedump</td>\n",
       "    </tr>\n",
       "    <tr>\n",
       "      <th>5</th>\n",
       "      <td>32</td>\n",
       "      <td>callbacks</td>\n",
       "    </tr>\n",
       "    <tr>\n",
       "      <th>6</th>\n",
       "      <td>0</td>\n",
       "      <td>clipboard</td>\n",
       "    </tr>\n",
       "    <tr>\n",
       "      <th>7</th>\n",
       "      <td>0</td>\n",
       "      <td>cmdscan</td>\n",
       "    </tr>\n",
       "    <tr>\n",
       "      <th>8</th>\n",
       "      <td>0</td>\n",
       "      <td>connections</td>\n",
       "    </tr>\n",
       "    <tr>\n",
       "      <th>9</th>\n",
       "      <td>0</td>\n",
       "      <td>connscan</td>\n",
       "    </tr>\n",
       "    <tr>\n",
       "      <th>10</th>\n",
       "      <td>0</td>\n",
       "      <td>consoles</td>\n",
       "    </tr>\n",
       "    <tr>\n",
       "      <th>11</th>\n",
       "      <td>0</td>\n",
       "      <td>crashinfo</td>\n",
       "    </tr>\n",
       "    <tr>\n",
       "      <th>12</th>\n",
       "      <td>0</td>\n",
       "      <td>deskscan</td>\n",
       "    </tr>\n",
       "    <tr>\n",
       "      <th>13</th>\n",
       "      <td>83</td>\n",
       "      <td>devicetree</td>\n",
       "    </tr>\n",
       "    <tr>\n",
       "      <th>14</th>\n",
       "      <td>986</td>\n",
       "      <td>dlldump</td>\n",
       "    </tr>\n",
       "    <tr>\n",
       "      <th>15</th>\n",
       "      <td>1026</td>\n",
       "      <td>dlllist</td>\n",
       "    </tr>\n",
       "    <tr>\n",
       "      <th>16</th>\n",
       "      <td>83</td>\n",
       "      <td>driverirp</td>\n",
       "    </tr>\n",
       "    <tr>\n",
       "      <th>17</th>\n",
       "      <td>83</td>\n",
       "      <td>driverscan</td>\n",
       "    </tr>\n",
       "    <tr>\n",
       "      <th>18</th>\n",
       "      <td>0</td>\n",
       "      <td>dumpcerts</td>\n",
       "    </tr>\n",
       "    <tr>\n",
       "      <th>19</th>\n",
       "      <td>722</td>\n",
       "      <td>envars</td>\n",
       "    </tr>\n",
       "    <tr>\n",
       "      <th>20</th>\n",
       "      <td>0</td>\n",
       "      <td>eventhooks</td>\n",
       "    </tr>\n",
       "    <tr>\n",
       "      <th>21</th>\n",
       "      <td>0</td>\n",
       "      <td>evtlogs</td>\n",
       "    </tr>\n",
       "    <tr>\n",
       "      <th>22</th>\n",
       "      <td>0</td>\n",
       "      <td>filescan</td>\n",
       "    </tr>\n",
       "    <tr>\n",
       "      <th>23</th>\n",
       "      <td>0</td>\n",
       "      <td>gahti</td>\n",
       "    </tr>\n",
       "    <tr>\n",
       "      <th>24</th>\n",
       "      <td>0</td>\n",
       "      <td>gditimers</td>\n",
       "    </tr>\n",
       "    <tr>\n",
       "      <th>25</th>\n",
       "      <td>0</td>\n",
       "      <td>gdt</td>\n",
       "    </tr>\n",
       "    <tr>\n",
       "      <th>26</th>\n",
       "      <td>461</td>\n",
       "      <td>getservicesids</td>\n",
       "    </tr>\n",
       "    <tr>\n",
       "      <th>27</th>\n",
       "      <td>1117</td>\n",
       "      <td>getsids</td>\n",
       "    </tr>\n",
       "    <tr>\n",
       "      <th>28</th>\n",
       "      <td>0</td>\n",
       "      <td>handles</td>\n",
       "    </tr>\n",
       "    <tr>\n",
       "      <th>29</th>\n",
       "      <td>1</td>\n",
       "      <td>hashdump</td>\n",
       "    </tr>\n",
       "    <tr>\n",
       "      <th>30</th>\n",
       "      <td>0</td>\n",
       "      <td>hibinfo</td>\n",
       "    </tr>\n",
       "    <tr>\n",
       "      <th>31</th>\n",
       "      <td>32</td>\n",
       "      <td>hivelist</td>\n",
       "    </tr>\n",
       "    <tr>\n",
       "      <th>32</th>\n",
       "      <td>113</td>\n",
       "      <td>hivescan</td>\n",
       "    </tr>\n",
       "    <tr>\n",
       "      <th>33</th>\n",
       "      <td>0</td>\n",
       "      <td>hpakextract</td>\n",
       "    </tr>\n",
       "    <tr>\n",
       "      <th>34</th>\n",
       "      <td>0</td>\n",
       "      <td>hpakinfo</td>\n",
       "    </tr>\n",
       "    <tr>\n",
       "      <th>35</th>\n",
       "      <td>0</td>\n",
       "      <td>idt</td>\n",
       "    </tr>\n",
       "    <tr>\n",
       "      <th>36</th>\n",
       "      <td>0</td>\n",
       "      <td>iehistory</td>\n",
       "    </tr>\n",
       "    <tr>\n",
       "      <th>37</th>\n",
       "      <td>1</td>\n",
       "      <td>imageinfo</td>\n",
       "    </tr>\n",
       "    <tr>\n",
       "      <th>38</th>\n",
       "      <td>0</td>\n",
       "      <td>impscan</td>\n",
       "    </tr>\n",
       "    <tr>\n",
       "      <th>39</th>\n",
       "      <td>0</td>\n",
       "      <td>kdbgscan</td>\n",
       "    </tr>\n",
       "    <tr>\n",
       "      <th>40</th>\n",
       "      <td>0</td>\n",
       "      <td>kpcrscan</td>\n",
       "    </tr>\n",
       "    <tr>\n",
       "      <th>41</th>\n",
       "      <td>171</td>\n",
       "      <td>ldrmodules</td>\n",
       "    </tr>\n",
       "    <tr>\n",
       "      <th>42</th>\n",
       "      <td>0</td>\n",
       "      <td>lsadump</td>\n",
       "    </tr>\n",
       "    <tr>\n",
       "      <th>43</th>\n",
       "      <td>0</td>\n",
       "      <td>machoinfo</td>\n",
       "    </tr>\n",
       "    <tr>\n",
       "      <th>44</th>\n",
       "      <td>4</td>\n",
       "      <td>malfind</td>\n",
       "    </tr>\n",
       "    <tr>\n",
       "      <th>45</th>\n",
       "      <td>116</td>\n",
       "      <td>mbrparser</td>\n",
       "    </tr>\n",
       "    <tr>\n",
       "      <th>46</th>\n",
       "      <td>1262343</td>\n",
       "      <td>memmap</td>\n",
       "    </tr>\n",
       "    <tr>\n",
       "      <th>47</th>\n",
       "      <td>0</td>\n",
       "      <td>messagehooks</td>\n",
       "    </tr>\n",
       "    <tr>\n",
       "      <th>48</th>\n",
       "      <td>80366</td>\n",
       "      <td>mftparser</td>\n",
       "    </tr>\n",
       "    <tr>\n",
       "      <th>49</th>\n",
       "      <td>0</td>\n",
       "      <td>mimikatz</td>\n",
       "    </tr>\n",
       "    <tr>\n",
       "      <th>50</th>\n",
       "      <td>193</td>\n",
       "      <td>moddump</td>\n",
       "    </tr>\n",
       "    <tr>\n",
       "      <th>51</th>\n",
       "      <td>195</td>\n",
       "      <td>modscan</td>\n",
       "    </tr>\n",
       "    <tr>\n",
       "      <th>52</th>\n",
       "      <td>193</td>\n",
       "      <td>modules</td>\n",
       "    </tr>\n",
       "    <tr>\n",
       "      <th>53</th>\n",
       "      <td>0</td>\n",
       "      <td>multiscan</td>\n",
       "    </tr>\n",
       "    <tr>\n",
       "      <th>54</th>\n",
       "      <td>478</td>\n",
       "      <td>mutantscan</td>\n",
       "    </tr>\n",
       "    <tr>\n",
       "      <th>55</th>\n",
       "      <td>0</td>\n",
       "      <td>patcher</td>\n",
       "    </tr>\n",
       "    <tr>\n",
       "      <th>56</th>\n",
       "      <td>0</td>\n",
       "      <td>printkey-run</td>\n",
       "    </tr>\n",
       "    <tr>\n",
       "      <th>57</th>\n",
       "      <td>2754</td>\n",
       "      <td>privs</td>\n",
       "    </tr>\n",
       "    <tr>\n",
       "      <th>58</th>\n",
       "      <td>84</td>\n",
       "      <td>pslist</td>\n",
       "    </tr>\n",
       "    <tr>\n",
       "      <th>59</th>\n",
       "      <td>57</td>\n",
       "      <td>psscan</td>\n",
       "    </tr>\n",
       "    <tr>\n",
       "      <th>60</th>\n",
       "      <td>83</td>\n",
       "      <td>pstree</td>\n",
       "    </tr>\n",
       "    <tr>\n",
       "      <th>61</th>\n",
       "      <td>98</td>\n",
       "      <td>psxview</td>\n",
       "    </tr>\n",
       "    <tr>\n",
       "      <th>62</th>\n",
       "      <td>0</td>\n",
       "      <td>screenshot</td>\n",
       "    </tr>\n",
       "    <tr>\n",
       "      <th>63</th>\n",
       "      <td>0</td>\n",
       "      <td>sessions</td>\n",
       "    </tr>\n",
       "    <tr>\n",
       "      <th>64</th>\n",
       "      <td>0</td>\n",
       "      <td>shellbags</td>\n",
       "    </tr>\n",
       "    <tr>\n",
       "      <th>65</th>\n",
       "      <td>0</td>\n",
       "      <td>shimcache</td>\n",
       "    </tr>\n",
       "    <tr>\n",
       "      <th>66</th>\n",
       "      <td>0</td>\n",
       "      <td>sockets</td>\n",
       "    </tr>\n",
       "    <tr>\n",
       "      <th>67</th>\n",
       "      <td>0</td>\n",
       "      <td>sockscan</td>\n",
       "    </tr>\n",
       "    <tr>\n",
       "      <th>68</th>\n",
       "      <td>2</td>\n",
       "      <td>ssdt</td>\n",
       "    </tr>\n",
       "    <tr>\n",
       "      <th>69</th>\n",
       "      <td>0</td>\n",
       "      <td>svcscan</td>\n",
       "    </tr>\n",
       "    <tr>\n",
       "      <th>70</th>\n",
       "      <td>249</td>\n",
       "      <td>symlinkscan</td>\n",
       "    </tr>\n",
       "    <tr>\n",
       "      <th>71</th>\n",
       "      <td>365</td>\n",
       "      <td>thrdscan</td>\n",
       "    </tr>\n",
       "    <tr>\n",
       "      <th>72</th>\n",
       "      <td>11539</td>\n",
       "      <td>threads</td>\n",
       "    </tr>\n",
       "    <tr>\n",
       "      <th>73</th>\n",
       "      <td>1965</td>\n",
       "      <td>timeliner</td>\n",
       "    </tr>\n",
       "    <tr>\n",
       "      <th>74</th>\n",
       "      <td>63</td>\n",
       "      <td>timers</td>\n",
       "    </tr>\n",
       "    <tr>\n",
       "      <th>75</th>\n",
       "      <td>0</td>\n",
       "      <td>truecryptmaster</td>\n",
       "    </tr>\n",
       "    <tr>\n",
       "      <th>76</th>\n",
       "      <td>0</td>\n",
       "      <td>truecryptpassphr</td>\n",
       "    </tr>\n",
       "    <tr>\n",
       "      <th>77</th>\n",
       "      <td>0</td>\n",
       "      <td>truecryptsummary</td>\n",
       "    </tr>\n",
       "    <tr>\n",
       "      <th>78</th>\n",
       "      <td>10</td>\n",
       "      <td>unloadedmodules</td>\n",
       "    </tr>\n",
       "    <tr>\n",
       "      <th>79</th>\n",
       "      <td>0</td>\n",
       "      <td>userassist</td>\n",
       "    </tr>\n",
       "    <tr>\n",
       "      <th>80</th>\n",
       "      <td>0</td>\n",
       "      <td>userhandles</td>\n",
       "    </tr>\n",
       "    <tr>\n",
       "      <th>81</th>\n",
       "      <td>0</td>\n",
       "      <td>usnparser</td>\n",
       "    </tr>\n",
       "    <tr>\n",
       "      <th>82</th>\n",
       "      <td>0</td>\n",
       "      <td>vadinfo</td>\n",
       "    </tr>\n",
       "    <tr>\n",
       "      <th>83</th>\n",
       "      <td>0</td>\n",
       "      <td>vadtree</td>\n",
       "    </tr>\n",
       "    <tr>\n",
       "      <th>84</th>\n",
       "      <td>0</td>\n",
       "      <td>vadwalk</td>\n",
       "    </tr>\n",
       "    <tr>\n",
       "      <th>85</th>\n",
       "      <td>0</td>\n",
       "      <td>vboxinfo</td>\n",
       "    </tr>\n",
       "    <tr>\n",
       "      <th>86</th>\n",
       "      <td>0</td>\n",
       "      <td>vmwareinfo</td>\n",
       "    </tr>\n",
       "    <tr>\n",
       "      <th>87</th>\n",
       "      <td>0</td>\n",
       "      <td>windows</td>\n",
       "    </tr>\n",
       "    <tr>\n",
       "      <th>88</th>\n",
       "      <td>0</td>\n",
       "      <td>wintree</td>\n",
       "    </tr>\n",
       "    <tr>\n",
       "      <th>89</th>\n",
       "      <td>0</td>\n",
       "      <td>wndscan</td>\n",
       "    </tr>\n",
       "  </tbody>\n",
       "</table>\n",
       "</div>"
      ],
      "text/plain": [
       "   NEntries VolFile          \n",
       "0       869          apihooks\n",
       "1       218             atoms\n",
       "2       218          atomscan\n",
       "3         0           bioskbd\n",
       "4         0         cachedump\n",
       "5        32         callbacks\n",
       "6         0         clipboard\n",
       "7         0           cmdscan\n",
       "8         0       connections\n",
       "9         0          connscan\n",
       "10        0          consoles\n",
       "11        0         crashinfo\n",
       "12        0          deskscan\n",
       "13       83        devicetree\n",
       "14      986           dlldump\n",
       "15     1026           dlllist\n",
       "16       83         driverirp\n",
       "17       83        driverscan\n",
       "18        0         dumpcerts\n",
       "19      722            envars\n",
       "20        0        eventhooks\n",
       "21        0           evtlogs\n",
       "22        0          filescan\n",
       "23        0             gahti\n",
       "24        0         gditimers\n",
       "25        0               gdt\n",
       "26      461    getservicesids\n",
       "27     1117           getsids\n",
       "28        0           handles\n",
       "29        1          hashdump\n",
       "30        0           hibinfo\n",
       "31       32          hivelist\n",
       "32      113          hivescan\n",
       "33        0       hpakextract\n",
       "34        0          hpakinfo\n",
       "35        0               idt\n",
       "36        0         iehistory\n",
       "37        1         imageinfo\n",
       "38        0           impscan\n",
       "39        0          kdbgscan\n",
       "40        0          kpcrscan\n",
       "41      171        ldrmodules\n",
       "42        0           lsadump\n",
       "43        0         machoinfo\n",
       "44        4           malfind\n",
       "45      116         mbrparser\n",
       "46  1262343            memmap\n",
       "47        0      messagehooks\n",
       "48    80366         mftparser\n",
       "49        0          mimikatz\n",
       "50      193           moddump\n",
       "51      195           modscan\n",
       "52      193           modules\n",
       "53        0         multiscan\n",
       "54      478        mutantscan\n",
       "55        0           patcher\n",
       "56        0      printkey-run\n",
       "57     2754             privs\n",
       "58       84            pslist\n",
       "59       57            psscan\n",
       "60       83            pstree\n",
       "61       98           psxview\n",
       "62        0        screenshot\n",
       "63        0          sessions\n",
       "64        0         shellbags\n",
       "65        0         shimcache\n",
       "66        0           sockets\n",
       "67        0          sockscan\n",
       "68        2              ssdt\n",
       "69        0           svcscan\n",
       "70      249       symlinkscan\n",
       "71      365          thrdscan\n",
       "72    11539           threads\n",
       "73     1965         timeliner\n",
       "74       63            timers\n",
       "75        0   truecryptmaster\n",
       "76        0  truecryptpassphr\n",
       "77        0  truecryptsummary\n",
       "78       10   unloadedmodules\n",
       "79        0        userassist\n",
       "80        0       userhandles\n",
       "81        0         usnparser\n",
       "82        0           vadinfo\n",
       "83        0           vadtree\n",
       "84        0           vadwalk\n",
       "85        0          vboxinfo\n",
       "86        0        vmwareinfo\n",
       "87        0           windows\n",
       "88        0           wintree\n",
       "89        0           wndscan"
      ]
     },
     "execution_count": 13,
     "metadata": {},
     "output_type": "execute_result"
    }
   ],
   "source": [
    "anl(voldfs,\"volatility_files\")"
   ]
  },
  {
   "cell_type": "code",
   "execution_count": 14,
   "metadata": {},
   "outputs": [
    {
     "name": "stdout",
     "output_type": "stream",
     "text": [
      "Help on module ds4n6_lib.gui in ds4n6_lib:\n",
      "\n",
      "NAME\n",
      "    ds4n6_lib.gui\n",
      "\n",
      "DESCRIPTION\n",
      "    ###############################################################################\n",
      "    # INFO\n",
      "    ###############################################################################\n",
      "    # Recommended \"import as\": d4gui\n",
      "\n",
      "CLASSES\n",
      "    builtins.object\n",
      "        dfs_explorer\n",
      "    \n",
      "    class dfs_explorer(builtins.object)\n",
      "     |  dfs_explorer(dfs, grid_type='default', column_mode=False)\n",
      "     |  \n",
      "     |  A class used to display a dataframes explorer\n",
      "     |  \n",
      "     |  Atributes:\n",
      "     |      current_df (pandas.DataFrame) :\n",
      "     |      current_df_name (str) :\n",
      "     |      simple (bool) : \n",
      "     |  \n",
      "     |  Methods: \n",
      "     |      update_options()\n",
      "     |      update_grid()\n",
      "     |      reload_df(name)\n",
      "     |      display()\n",
      "     |      export_grid_to_df()\n",
      "     |  \n",
      "     |  Methods defined here:\n",
      "     |  \n",
      "     |  __init__(self, dfs, grid_type='default', column_mode=False)\n",
      "     |      Initialize self.  See help(type(self)) for accurate signature.\n",
      "     |  \n",
      "     |  display(self)\n",
      "     |  \n",
      "     |  export_grid_to_df(self)\n",
      "     |  \n",
      "     |  reload_df(self, name)\n",
      "     |  \n",
      "     |  update_grid(self)\n",
      "     |  \n",
      "     |  update_options(self)\n",
      "     |  \n",
      "     |  ----------------------------------------------------------------------\n",
      "     |  Data descriptors defined here:\n",
      "     |  \n",
      "     |  __dict__\n",
      "     |      dictionary for instance variables (if defined)\n",
      "     |  \n",
      "     |  __weakref__\n",
      "     |      list of weak references to the object (if defined)\n",
      "     |  \n",
      "     |  ----------------------------------------------------------------------\n",
      "     |  Data and other attributes defined here:\n",
      "     |  \n",
      "     |  current_df = None\n",
      "     |  \n",
      "     |  current_df_name = ''\n",
      "     |  \n",
      "     |  simple = True\n",
      "\n",
      "FUNCTIONS\n",
      "    aggrid(df, page_size=10)\n",
      "        Function description\n",
      "        \n",
      "        Args: \n",
      "            df (pandas.DataFrame): data to show\n",
      "            page_size (int): number of rows per page\n",
      "                (default is 10)\n",
      "        \n",
      "        Returns: \n",
      "            ipyaggrid.Grid: object that show the data using ag-grid JS framework\n",
      "    \n",
      "    create_pd_boolean_option(name)\n",
      "    \n",
      "    create_pd_int_option(name)\n",
      "    \n",
      "    create_pd_text_option(name, options)\n",
      "    \n",
      "    file_folder_select(rootpath='/', readfunc='', compname=None, f2read='', nbsave_prefix='', **kwargs)\n",
      "        Function description\n",
      "        \n",
      "        Args: \n",
      "        \n",
      "        Returns: \n",
      "        \n",
      "        Raises:\n",
      "    \n",
      "    file_select(rootpath='/', readfunc='', compname=None, f2read='', nbsave_prefix='', **kwargs)\n",
      "    \n",
      "    folder_select(rootpath='/', readfunc='', compname=None, f2read='', nbsave_prefix='', **kwargs)\n",
      "    \n",
      "    rdg(*args, **kwargs)\n",
      "        Function description\n",
      "        \n",
      "        Args: \n",
      "        \n",
      "        Returns: \n",
      "        \n",
      "        Raises:\n",
      "    \n",
      "    read_data_gui(**kwargs)\n",
      "        User interface for read data from different type of files\n",
      "        \n",
      "        Syntax: read_data_gui(tool=\"<tool>\" [, rootpath=\"<rootpath>\", notebook_file=\"<nbfile>\", hostname=\"<hostname>\", prefix=\"<prefix>\", ext=\"<ext>\")\n",
      "        \n",
      "        Args:\n",
      "            tool (str) : tool used to generate files to readd\n",
      "            rootpath (str) : path of the file/folder with files to read\n",
      "            notebook_file (str) : path of notebook that is calling the function for check if the data is already readed\n",
      "            hostname (str) : Hostname of the data to read\n",
      "            prefix (str) :\n",
      "            ext (str) :\n",
      "    \n",
      "    xanalysis(dfs)\n",
      "        User Interface to show analysis from forensics dataframes\n",
      "        \n",
      "        Args: \n",
      "            dfs (dict of pandas.DataFrame): data for analisys\n",
      "    \n",
      "    xdisplay()\n",
      "        User interface to change Pandas display options \n",
      "        \n",
      "        Display options that you can change:\n",
      "        - display.max_rows\n",
      "        - display.min_rows\n",
      "        - display.max_columns\n",
      "        - display.colheader_justify\n",
      "        - display_expand_frame_repr\n",
      "    \n",
      "    xdp(*args, **kwargs)\n",
      "        Function description\n",
      "        \n",
      "        Args: \n",
      "        \n",
      "        Returns: \n",
      "        \n",
      "        Raises:\n",
      "    \n",
      "    xmenu(obj, engine='default')\n",
      "        User interface to explore forensics dataframes and dictionaries of dataframes\n",
      "        \n",
      "        Args: \n",
      "            obj (pandas.DataFrame or dict of pandas.DataFrame): data to exploer\n",
      "            engine (str) : type of grid to show the data, options: default|qgrid|aggrid\n",
      "                (default is \"default\")\n",
      "                \n",
      "        Returns: \n",
      "            dfs_explorer: instance that display the UI\n",
      "    \n",
      "    xmn(*args, **kwargs)\n",
      "        Function description\n",
      "        \n",
      "        Args: \n",
      "        \n",
      "        Returns: \n",
      "        \n",
      "        Raises:\n",
      "\n",
      "DATA\n",
      "    __warningregistry__ = {'version': 205, ('Columns (0,2) have mixed type...\n",
      "    curf = ''\n",
      "\n",
      "FILE\n",
      "    /mnt/analysis/dev/testing_system/test_notebooks/ds4n6_lib/gui.py\n",
      "\n",
      "\n"
     ]
    }
   ],
   "source": [
    "help(d4gui)"
   ]
  },
  {
   "cell_type": "code",
   "execution_count": 15,
   "metadata": {},
   "outputs": [
    {
     "name": "stdout",
     "output_type": "stream",
     "text": [
      "Help on function xanalysis in module ds4n6_lib.gui:\n",
      "\n",
      "xanalysis(dfs)\n",
      "    User Interface to show analysis from forensics dataframes\n",
      "    \n",
      "    Args: \n",
      "        dfs (dict of pandas.DataFrame): data for analisys\n",
      "\n"
     ]
    }
   ],
   "source": [
    "help(d4gui.xanalysis)\n"
   ]
  },
  {
   "cell_type": "code",
   "execution_count": null,
   "metadata": {},
   "outputs": [],
   "source": []
  }
 ],
 "metadata": {
  "kernelspec": {
   "display_name": "Python 3",
   "language": "python",
   "name": "python3"
  },
  "language_info": {
   "codemirror_mode": {
    "name": "ipython",
    "version": 3
   },
   "file_extension": ".py",
   "mimetype": "text/x-python",
   "name": "python",
   "nbconvert_exporter": "python",
   "pygments_lexer": "ipython3",
   "version": "3.7.6"
  }
 },
 "nbformat": 4,
 "nbformat_minor": 4
}
