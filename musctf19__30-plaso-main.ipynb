{
 "cells": [
  {
   "cell_type": "markdown",
   "metadata": {},
   "source": [
    "## **MUS-CTF-19 - 30 - PLASO - MAIN**"
   ]
  },
  {
   "cell_type": "markdown",
   "metadata": {},
   "source": [
    "## **FUNCTIONS, VARS, INIT**"
   ]
  },
  {
   "cell_type": "code",
   "execution_count": 1,
   "metadata": {},
   "outputs": [
    {
     "data": {
      "text/html": [
       "<style>\n",
       "table {float:left}\n",
       "</style>\n"
      ],
      "text/plain": [
       "<IPython.core.display.HTML object>"
      ]
     },
     "metadata": {},
     "output_type": "display_data"
    }
   ],
   "source": [
    "# Define your notebook full file path here to be able to automatically store runtime configuration settings in this notebook\n",
    "thisnb='/mnt/analysis/dev/testing_system/test_notebooks/musctf19__30-plaso-main.ipynb'\n",
    "\n",
    "%run musctf19__00_imports_case_variables.ipynb"
   ]
  },
  {
   "cell_type": "raw",
   "metadata": {},
   "source": [
    "# TO BE COPIED TO OTHER NOTEBOOKS FOR CODE DEBUGGING\n",
    "\n",
    "importlib.reload(d4pl)\n",
    "importlib.reload(d4com)\n",
    "importlib.reload(d4gui)\n",
    "importlib.reload(d4evtx)"
   ]
  },
  {
   "cell_type": "markdown",
   "metadata": {},
   "source": [
    "## **READ PLASO FILES**"
   ]
  },
  {
   "cell_type": "markdown",
   "metadata": {},
   "source": [
    "#### **brd01d**"
   ]
  },
  {
   "cell_type": "code",
   "execution_count": 2,
   "metadata": {},
   "outputs": [],
   "source": [
    "# Enter computer name here (i.e. evidence file prefix, e.g. compname = \"dsk1723\")\n",
    "compname = 'mus-ctf-19-desktop-001-ft-p02'\n",
    "hostname = 'mus-ctf-19-desktop-001-ft-p02'"
   ]
  },
  {
   "cell_type": "code",
   "execution_count": 3,
   "metadata": {},
   "outputs": [],
   "source": [
    "compod=caseod+'/f4n6/comps/'+compname\n",
    "plasood=compod+'/plaso'"
   ]
  },
  {
   "cell_type": "code",
   "execution_count": 4,
   "metadata": {},
   "outputs": [
    {
     "name": "stdout",
     "output_type": "stream",
     "text": [
      "- Searching notebook for saved input file / folder (mus-ctf-19-desktop-001-ft-p02_plasod)\n",
      "  + Not Found\n",
      "\n"
     ]
    },
    {
     "data": {
      "text/markdown": [
       "Select mus-ctf-19-desktop-001-ft-p02_plasod file:"
      ],
      "text/plain": [
       "<IPython.core.display.Markdown object>"
      ]
     },
     "metadata": {},
     "output_type": "display_data"
    },
    {
     "data": {
      "application/vnd.jupyter.widget-view+json": {
       "model_id": "fd09e28f9ce54d91a040e7ffe3e42c76",
       "version_major": 2,
       "version_minor": 0
      },
      "text/plain": [
       "Accordion(children=(SelectMultiple(options=(('[..]', '..'), ('[manual2]', 'manual2'), ('[manual]', 'manual'), …"
      ]
     },
     "metadata": {},
     "output_type": "display_data"
    },
    {
     "data": {
      "application/vnd.jupyter.widget-view+json": {
       "model_id": "5a86bbd4db434ab5b6f9cab9d7b59121",
       "version_major": 2,
       "version_minor": 0
      },
      "text/plain": [
       "Button(description='SELECT & READ', style=ButtonStyle())"
      ]
     },
     "metadata": {},
     "output_type": "display_data"
    },
    {
     "data": {
      "application/vnd.jupyter.widget-view+json": {
       "model_id": "553818b18f8a43748c61571270c2cfd8",
       "version_major": 2,
       "version_minor": 0
      },
      "text/plain": [
       "Output()"
      ]
     },
     "metadata": {},
     "output_type": "display_data"
    }
   ],
   "source": [
    "read_data_gui(tool=\"plaso\", rootpath=plasood, notebook_file=thisnb, hostname=hostname)"
   ]
  },
  {
   "cell_type": "code",
   "execution_count": null,
   "metadata": {},
   "outputs": [],
   "source": [
    "pldfs = d4.out"
   ]
  },
  {
   "cell_type": "code",
   "execution_count": null,
   "metadata": {},
   "outputs": [],
   "source": [
    "# Automatically created - DO NOT EDIT OR REMOVE unless you want to change the file to read (in that case, remove this cell)\n",
    "# 2021-01-18 06:41:58.263773\n",
    "# base-rd-01_plasod_f2read = \"/mnt/analysis/cases/sans_for508/f4n6/comps/base-rd-01-cdrive/plaso/base-rd01-cdrive.plaso.json\""
   ]
  },
  {
   "cell_type": "code",
   "execution_count": null,
   "metadata": {},
   "outputs": [],
   "source": [
    "# Get evtx dfs either from pickle (if it has already been saved) or by parsing the pldfs\n",
    "evtxrawdfs = d4pl.plaso_get_evtxdfs(pldfs, compname, datapath=plasood, notebook_file=thisnb)"
   ]
  },
  {
   "cell_type": "code",
   "execution_count": null,
   "metadata": {},
   "outputs": [],
   "source": [
    "# Automatically created - DO NOT EDIT OR REMOVE unless you want to change the file to read (in that case, remove this cell)\n",
    "# 2021-01-18 07:54:31.459959\n",
    "# base-rd-01-cdrive_evtxdfspklf_f2read = \"/mnt/analysis/cases//sans_for508/f4n6/comps/base-rd-01-cdrive/plaso/base-rd-01-cdrive.evtxdfs.pickle\""
   ]
  },
  {
   "cell_type": "markdown",
   "metadata": {},
   "source": [
    "##### **evtx**"
   ]
  },
  {
   "cell_type": "code",
   "execution_count": null,
   "metadata": {},
   "outputs": [],
   "source": [
    "# Security.evtx ------------------------------------\n",
    "print('- Processing Security.evtx')\n",
    "# Create Raw DF with plaso evtx records\n",
    "secevtxrawdf = evtxrawdfs['Security.evtx']\n",
    "# Create DF dict with individual Event IDs\n",
    "secevtidrawdfs = d4evtx.evtid_dfs_build_raw(secevtxrawdf)\n",
    "secevtxdfs = d4evtx.evtid_dfs_build(secevtxrawdf)\n",
    "secevtxdf = secevtxdfs['all']\n",
    "\n",
    "# System.evtx ------------------------------------\n",
    "print('- Processing System.evtx')\n",
    "sysevtxrawdf = evtxrawdfs['System.evtx']\n",
    "sysevtidrawdfs = d4evtx.evtid_dfs_build_raw(sysevtxrawdf)\n",
    "sysevtxdfs = d4evtx.evtid_dfs_build(sysevtxrawdf)\n",
    "sysevtxdf = sysevtxdfs['all']\n",
    "\n",
    "\n",
    "# Tasks/Operational.evtx ------------------------------------\n",
    "print('- Processing Microsoft-Windows-TaskScheduler%4Operational.evtx')\n",
    "tskopevtxrawdf = evtxrawdfs['Microsoft-Windows-TaskScheduler%4Operational.evtx']\n",
    "tskopevtidrawdfs = d4evtx.evtid_dfs_build_raw(tskopevtxrawdf)\n",
    "tskopevtxdfs = d4evtx.evtid_dfs_build(tskopevtxrawdf)\n",
    "tskopevtxdf = tskopevtxdfs['all']"
   ]
  },
  {
   "cell_type": "markdown",
   "metadata": {},
   "source": [
    "## **DEBUGGING**"
   ]
  },
  {
   "cell_type": "code",
   "execution_count": null,
   "metadata": {},
   "outputs": [],
   "source": [
    "pldfs.keys"
   ]
  },
  {
   "cell_type": "code",
   "execution_count": null,
   "metadata": {},
   "outputs": [],
   "source": [
    "testdfs={}\n",
    "print(len(testdfs))\n"
   ]
  },
  {
   "cell_type": "code",
   "execution_count": null,
   "metadata": {},
   "outputs": [],
   "source": [
    "#evtxdfs['Security.evtx'].head(1)"
   ]
  },
  {
   "cell_type": "code",
   "execution_count": null,
   "metadata": {},
   "outputs": [],
   "source": [
    "secevtxrawdf.head(1)"
   ]
  },
  {
   "cell_type": "code",
   "execution_count": null,
   "metadata": {},
   "outputs": [],
   "source": [
    "secevtidrawdfs.keys()"
   ]
  },
  {
   "cell_type": "code",
   "execution_count": null,
   "metadata": {},
   "outputs": [],
   "source": [
    "secevtidrawdfs[4624].head(1)"
   ]
  },
  {
   "cell_type": "code",
   "execution_count": null,
   "metadata": {},
   "outputs": [],
   "source": [
    "secevtxrawdf.head(1)"
   ]
  },
  {
   "cell_type": "code",
   "execution_count": null,
   "metadata": {},
   "outputs": [],
   "source": [
    "secevtxdfs.keys()"
   ]
  },
  {
   "cell_type": "code",
   "execution_count": null,
   "metadata": {},
   "outputs": [],
   "source": [
    "secevtxdfs[4624].head(1)"
   ]
  },
  {
   "cell_type": "code",
   "execution_count": null,
   "metadata": {},
   "outputs": [],
   "source": [
    "secevtxdf.shape"
   ]
  },
  {
   "cell_type": "code",
   "execution_count": null,
   "metadata": {},
   "outputs": [],
   "source": [
    "secevtxdf.head(1)"
   ]
  },
  {
   "cell_type": "code",
   "execution_count": null,
   "metadata": {},
   "outputs": [],
   "source": [
    "secevtxdfs[4624].dtypes"
   ]
  },
  {
   "cell_type": "code",
   "execution_count": null,
   "metadata": {},
   "outputs": [],
   "source": [
    "testdf=secevtxdfs[4624].copy()"
   ]
  },
  {
   "cell_type": "code",
   "execution_count": null,
   "metadata": {},
   "outputs": [],
   "source": [
    "testcdf=testdf.convert_dtypes()"
   ]
  },
  {
   "cell_type": "code",
   "execution_count": null,
   "metadata": {},
   "outputs": [],
   "source": [
    "testcdf['IpPort']"
   ]
  },
  {
   "cell_type": "code",
   "execution_count": null,
   "metadata": {},
   "outputs": [],
   "source": [
    "xmenu(secevtxdfs)"
   ]
  },
  {
   "cell_type": "code",
   "execution_count": null,
   "metadata": {},
   "outputs": [],
   "source": [
    "secevtxdf.head(1)"
   ]
  },
  {
   "cell_type": "markdown",
   "metadata": {},
   "source": [
    "## **plaso ANALYSIS**"
   ]
  },
  {
   "cell_type": "markdown",
   "metadata": {},
   "source": [
    "### **plaso DFs**"
   ]
  },
  {
   "cell_type": "markdown",
   "metadata": {},
   "source": [
    "#### **xmenu()**"
   ]
  },
  {
   "cell_type": "code",
   "execution_count": null,
   "metadata": {},
   "outputs": [],
   "source": [
    "pldfs['windows_registry_key_value'].query('key_path.str.contains(\"Microsoft\\\\\\\\\\\\Windows NT\\\\\\\\\\\\CurrentVersion\\\\\\\\\\\\Schedule\\\\\\\\\\\\TaskCache\\\\\\\\\\\\Tasks\")',engine=\"python\")"
   ]
  },
  {
   "cell_type": "code",
   "execution_count": null,
   "metadata": {},
   "outputs": [],
   "source": [
    "xgrep(pldfs.keys(),\"key_va\")"
   ]
  },
  {
   "cell_type": "code",
   "execution_count": null,
   "metadata": {},
   "outputs": [],
   "source": [
    "xmenu(pldfs)"
   ]
  },
  {
   "cell_type": "markdown",
   "metadata": {},
   "source": [
    "####  **analysis()**"
   ]
  },
  {
   "cell_type": "code",
   "execution_count": null,
   "metadata": {},
   "outputs": [],
   "source": [
    "anl(pldfs)"
   ]
  },
  {
   "cell_type": "code",
   "execution_count": null,
   "metadata": {},
   "outputs": [],
   "source": [
    "anl(pldfs, \"plaso_categories\")"
   ]
  },
  {
   "cell_type": "markdown",
   "metadata": {},
   "source": [
    "## **evtx - TESTING**"
   ]
  },
  {
   "cell_type": "markdown",
   "metadata": {},
   "source": [
    "##### **plaso-side**"
   ]
  },
  {
   "cell_type": "code",
   "execution_count": null,
   "metadata": {},
   "outputs": [],
   "source": [
    "#ctail(1)"
   ]
  },
  {
   "cell_type": "code",
   "execution_count": null,
   "metadata": {},
   "outputs": [],
   "source": [
    "pldfs['windows_evtx_record'].dtypes"
   ]
  },
  {
   "cell_type": "code",
   "execution_count": null,
   "metadata": {},
   "outputs": [],
   "source": [
    "xgrep(pldfs.keys(),\"evt\")"
   ]
  },
  {
   "cell_type": "code",
   "execution_count": null,
   "metadata": {},
   "outputs": [],
   "source": [
    "# Get evtx dfs either from pickle (if it has already been saved) or by parsing the pldfs\n",
    "evtxrawdfs = d4pl.plaso_get_evtxdfs(pldfs, compname, datapath=plasood, notebook_file=thisnb)"
   ]
  },
  {
   "cell_type": "code",
   "execution_count": null,
   "metadata": {},
   "outputs": [],
   "source": [
    "# Automatically created - DO NOT EDIT OR REMOVE unless you want to change the file to read (in that case, remove this cell)\n",
    "# 2021-01-24 06:17:52.395146\n",
    "# base-rd-01-cdrive_evtxdfspklf_f2read = \"/mnt/analysis/cases//sans_for508/f4n6/comps/base-rd-01-cdrive/plaso/base-rd-01-cdrive.evtxdfs.pickle\""
   ]
  },
  {
   "cell_type": "markdown",
   "metadata": {},
   "source": [
    "##### **evtx - df/dfs generation**"
   ]
  },
  {
   "cell_type": "code",
   "execution_count": null,
   "metadata": {},
   "outputs": [],
   "source": [
    "# Security.evtx ------------------------------------\n",
    "print('- Processing Security.evtx')\n",
    "# Create Raw DF with plaso evtx records\n",
    "secevtxrawdf = evtxrawdfs['Security.evtx']\n",
    "# Create DF dict with individual Event IDs\n",
    "secevtidrawdfs = d4evtx.evtid_dfs_build_raw(secevtxrawdf)\n",
    "secevtxdfs = d4evtx.evtid_dfs_build(secevtxrawdf)\n",
    "secevtxdf = secevtxdfs['all']\n",
    "\n",
    "# System.evtx ------------------------------------\n",
    "print('- Processing System.evtx')\n",
    "sysevtxrawdf = evtxrawdfs['System.evtx']\n",
    "sysevtidrawdfs = d4evtx.evtid_dfs_build_raw(sysevtxrawdf)\n",
    "sysevtxdfs = d4evtx.evtid_dfs_build(sysevtxrawdf)\n",
    "sysevtxdf = sysevtxdfs['all']\n",
    "\n",
    "\n",
    "# Tasks/Operational.evtx ------------------------------------\n",
    "print('- Processing Microsoft-Windows-TaskScheduler%4Operational.evtx')\n",
    "tskopevtxrawdf = evtxrawdfs['Microsoft-Windows-TaskScheduler%4Operational.evtx']\n",
    "tskopevtidrawdfs = d4evtx.evtid_dfs_build_raw(tskopevtxrawdf)\n",
    "tskopevtxdfs = d4evtx.evtid_dfs_build(tskopevtxrawdf)\n",
    "tskopevtxdf = tskopevtxdfs['all']"
   ]
  },
  {
   "cell_type": "code",
   "execution_count": null,
   "metadata": {},
   "outputs": [],
   "source": [
    "secevtxrawdf.head(1)"
   ]
  },
  {
   "cell_type": "code",
   "execution_count": null,
   "metadata": {},
   "outputs": [],
   "source": [
    "secevtxdfs[4624].head(1)"
   ]
  },
  {
   "cell_type": "code",
   "execution_count": null,
   "metadata": {},
   "outputs": [],
   "source": [
    "secevtxdf.head(1)"
   ]
  },
  {
   "cell_type": "markdown",
   "metadata": {},
   "source": [
    "##### **simple()**"
   ]
  },
  {
   "cell_type": "code",
   "execution_count": null,
   "metadata": {},
   "outputs": [],
   "source": [
    "secevtxdf.simple(\"4624, 4625\")"
   ]
  },
  {
   "cell_type": "code",
   "execution_count": null,
   "metadata": {},
   "outputs": [],
   "source": [
    "xdisplay()"
   ]
  },
  {
   "cell_type": "code",
   "execution_count": null,
   "metadata": {},
   "outputs": [],
   "source": [
    "secevtxdfs[4624].dtypes"
   ]
  },
  {
   "cell_type": "code",
   "execution_count": null,
   "metadata": {},
   "outputs": [],
   "source": [
    "secevtxdf.head(1)"
   ]
  },
  {
   "cell_type": "code",
   "execution_count": null,
   "metadata": {},
   "outputs": [],
   "source": [
    "secevtxdf.simple(\"4624\")"
   ]
  },
  {
   "cell_type": "code",
   "execution_count": null,
   "metadata": {},
   "outputs": [],
   "source": [
    "secevtxrawdf.head(1)"
   ]
  },
  {
   "cell_type": "code",
   "execution_count": null,
   "metadata": {},
   "outputs": [],
   "source": [
    "evtxrawdfs['Security.evtx']"
   ]
  },
  {
   "cell_type": "markdown",
   "metadata": {},
   "source": [
    "##### **tskrawevtxdf**"
   ]
  },
  {
   "cell_type": "code",
   "execution_count": null,
   "metadata": {},
   "outputs": [],
   "source": [
    "tskopevtxrawdf.simple(\"106\")"
   ]
  },
  {
   "cell_type": "markdown",
   "metadata": {},
   "source": [
    "##### **tskevtxdf**"
   ]
  },
  {
   "cell_type": "code",
   "execution_count": null,
   "metadata": {},
   "outputs": [],
   "source": [
    "tskopevtxdf.simple(\"106\")"
   ]
  },
  {
   "cell_type": "markdown",
   "metadata": {},
   "source": [
    "##### **secevtxdf**"
   ]
  },
  {
   "cell_type": "code",
   "execution_count": null,
   "metadata": {},
   "outputs": [],
   "source": [
    "secevtxdf.simple(\"4624\")"
   ]
  },
  {
   "cell_type": "markdown",
   "metadata": {},
   "source": [
    "## **evtx - INTERACTIVE ANALYSIS**"
   ]
  },
  {
   "cell_type": "markdown",
   "metadata": {},
   "source": [
    "#### **evtx FILE**"
   ]
  },
  {
   "cell_type": "markdown",
   "metadata": {},
   "source": [
    "**Select a specific evtx file**"
   ]
  },
  {
   "cell_type": "code",
   "execution_count": null,
   "metadata": {},
   "outputs": [],
   "source": [
    "#xmenu(evtxdfs)"
   ]
  },
  {
   "cell_type": "code",
   "execution_count": null,
   "metadata": {},
   "outputs": [],
   "source": [
    "secevtxsdf=secevtxdf.d4evtx.simple()"
   ]
  },
  {
   "cell_type": "code",
   "execution_count": null,
   "metadata": {},
   "outputs": [],
   "source": [
    "# Create DF dict with evtid DFs\n",
    "#evtiddfs=d4evtx.evtid_dfs_build(curdf)"
   ]
  },
  {
   "cell_type": "markdown",
   "metadata": {},
   "source": [
    "##### **SCHEDULED TASKS**"
   ]
  },
  {
   "cell_type": "code",
   "execution_count": null,
   "metadata": {},
   "outputs": [],
   "source": [
    "#tskevtxdf = evtxdfs['Microsoft-Windows-TaskScheduler%4Operational.evtx']"
   ]
  },
  {
   "cell_type": "code",
   "execution_count": null,
   "metadata": {},
   "outputs": [],
   "source": [
    "#xgrep(tskevtxdf, \"*\", \"Collect Background Statistics\",\"t\")"
   ]
  },
  {
   "cell_type": "code",
   "execution_count": null,
   "metadata": {},
   "outputs": [],
   "source": [
    "#tskevtxdf.simple()"
   ]
  },
  {
   "cell_type": "code",
   "execution_count": null,
   "metadata": {},
   "outputs": [],
   "source": [
    "#tskevtxdf.query('`System > EventID` == 106').drop_duplicates()"
   ]
  },
  {
   "cell_type": "code",
   "execution_count": null,
   "metadata": {},
   "outputs": [],
   "source": [
    "secevtxdf['EventID_']"
   ]
  },
  {
   "cell_type": "code",
   "execution_count": null,
   "metadata": {},
   "outputs": [],
   "source": [
    "xgrep()"
   ]
  },
  {
   "cell_type": "markdown",
   "metadata": {},
   "source": [
    "#### **ANALYZE evtids INTERACTIVELY**\n"
   ]
  },
  {
   "cell_type": "code",
   "execution_count": null,
   "metadata": {},
   "outputs": [],
   "source": [
    "#dfmenu(evtiddfs)"
   ]
  },
  {
   "cell_type": "code",
   "execution_count": null,
   "metadata": {},
   "outputs": [],
   "source": [
    "#d4gui.curdf "
   ]
  },
  {
   "cell_type": "markdown",
   "metadata": {},
   "source": [
    "#### **Security.evtx ANALYSIS**"
   ]
  },
  {
   "cell_type": "markdown",
   "metadata": {},
   "source": [
    "##### **XRAY**"
   ]
  },
  {
   "cell_type": "code",
   "execution_count": null,
   "metadata": {},
   "outputs": [],
   "source": [
    "#d4evtx.xray_evtids_access(secevtxdf.d4evtx.simple(ret=True,out=False))"
   ]
  },
  {
   "cell_type": "markdown",
   "metadata": {},
   "source": [
    "##### **Event IDs**"
   ]
  },
  {
   "cell_type": "code",
   "execution_count": null,
   "metadata": {},
   "outputs": [],
   "source": [
    "#srvpldfs['windows_evtx_record'][['pevtnum','record_number']]"
   ]
  },
  {
   "cell_type": "code",
   "execution_count": null,
   "metadata": {},
   "outputs": [],
   "source": [
    "#srvpldfs['windows_evtx_record']['record_number']"
   ]
  },
  {
   "cell_type": "code",
   "execution_count": null,
   "metadata": {},
   "outputs": [],
   "source": [
    "#secevtxdf['System > EventRecordID']"
   ]
  },
  {
   "cell_type": "code",
   "execution_count": null,
   "metadata": {},
   "outputs": [],
   "source": [
    "#secevtiddfs[1102]"
   ]
  },
  {
   "cell_type": "code",
   "execution_count": null,
   "metadata": {},
   "outputs": [],
   "source": [
    "#dfmenu(secevtiddfs)"
   ]
  },
  {
   "cell_type": "code",
   "execution_count": null,
   "metadata": {},
   "outputs": [],
   "source": [
    "#secevtiddfs[1102]"
   ]
  },
  {
   "cell_type": "markdown",
   "metadata": {},
   "source": [
    "## **OTHER**"
   ]
  },
  {
   "cell_type": "code",
   "execution_count": null,
   "metadata": {},
   "outputs": [],
   "source": [
    "#df=srvevtxdfs['Microsoft-Windows-TerminalServices-RDPClient%4Operational.evtx']\n",
    "#df[df['System > EventID'] == 1401]\n"
   ]
  },
  {
   "cell_type": "raw",
   "metadata": {},
   "source": [
    "# TO BE COPIED TO OTHER NOTEBOOKS FOR CODE DEBUGGING\n",
    "\n",
    "# importlib.reload(d4pl)\n",
    "# importlib.reload(d4com)\n",
    "importlib.reload(d4gui)\n",
    "importlib.reload(d4evtx)"
   ]
  },
  {
   "cell_type": "code",
   "execution_count": null,
   "metadata": {},
   "outputs": [],
   "source": [
    "#srvevtxdfs['Microsoft-Windows-TerminalServices-RDPClient%4Operational.evtx'].d4evtx7.consolidate_columns()"
   ]
  },
  {
   "cell_type": "code",
   "execution_count": null,
   "metadata": {},
   "outputs": [],
   "source": [
    "#dfmenu(srvevtxdfs)"
   ]
  },
  {
   "cell_type": "code",
   "execution_count": null,
   "metadata": {},
   "outputs": [],
   "source": [
    "#evtiddfs=d4evtx.evtid_dfs_build(d4gui.curdf)\n",
    "#dfmenu(evtiddfs)"
   ]
  },
  {
   "cell_type": "code",
   "execution_count": null,
   "metadata": {},
   "outputs": [],
   "source": [
    "#df=d4gui.curdf\n",
    "#df"
   ]
  },
  {
   "cell_type": "code",
   "execution_count": null,
   "metadata": {},
   "outputs": [],
   "source": [
    "#import qgrid\n",
    "#qgrid_widget = qgrid.show_grid(df,show_toolbar=True)\n",
    "#qgrid_widget"
   ]
  },
  {
   "cell_type": "code",
   "execution_count": null,
   "metadata": {},
   "outputs": [],
   "source": [
    "#print(qgrid_widget.get_changed_df())\n"
   ]
  },
  {
   "cell_type": "code",
   "execution_count": null,
   "metadata": {},
   "outputs": [],
   "source": [
    "#dfmenu(srvevtxdfs)"
   ]
  },
  {
   "cell_type": "code",
   "execution_count": null,
   "metadata": {},
   "outputs": [],
   "source": [
    "#import dtale  \n",
    "#dtale.show(d4gui.curdf, host='localhost')"
   ]
  },
  {
   "cell_type": "code",
   "execution_count": null,
   "metadata": {},
   "outputs": [],
   "source": []
  }
 ],
 "metadata": {
  "kernelspec": {
   "display_name": "Python 3",
   "language": "python",
   "name": "python3"
  },
  "language_info": {
   "codemirror_mode": {
    "name": "ipython",
    "version": 3
   },
   "file_extension": ".py",
   "mimetype": "text/x-python",
   "name": "python",
   "nbconvert_exporter": "python",
   "pygments_lexer": "ipython3",
   "version": "3.7.6"
  }
 },
 "nbformat": 4,
 "nbformat_minor": 4
}
