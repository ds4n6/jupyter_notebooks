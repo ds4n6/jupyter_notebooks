{
 "cells": [
  {
   "cell_type": "markdown",
   "metadata": {},
   "source": [
    "# **CASE INITIALIZATION**"
   ]
  },
  {
   "cell_type": "markdown",
   "metadata": {},
   "source": [
    "## **VARIABLES** "
   ]
  },
  {
   "cell_type": "markdown",
   "metadata": {},
   "source": [
    "### **PATHS**"
   ]
  },
  {
   "cell_type": "markdown",
   "metadata": {},
   "source": [
    "#### **FOREST**"
   ]
  },
  {
   "cell_type": "code",
   "execution_count": 1,
   "metadata": {},
   "outputs": [],
   "source": [
    "casename='ah2-polivio'\n",
    "casesod='/mnt/analysis/cases/'\n",
    "caseod=casesod+'/'+casename\n",
    "f4n6d=caseod+'/f4n6'\n",
    "compsod=f4n6d+'/comps'\n",
    "xcompsod=f4n6d+'/xcomps/'\n",
    "nbd=xcompsod+'/ds4n6'\n",
    "mntpntd='/mnt/'+casename"
   ]
  },
  {
   "cell_type": "markdown",
   "metadata": {},
   "source": [
    "## **IMPORTS**"
   ]
  },
  {
   "cell_type": "code",
   "execution_count": 2,
   "metadata": {},
   "outputs": [],
   "source": [
    "# Data Science Imports\n",
    "import numpy as np\n",
    "import pandas as pd\n",
    "import matplotlib.pyplot as plt\n",
    "from IPython.display import display, Markdown\n",
    "\n",
    "# Visualization\n",
    "import matplotlib.pyplot as plt\n",
    "import seaborn as sns\n",
    "import pandas_bokeh\n",
    "from bokeh.io import output_notebook, show\n",
    "from bokeh.plotting import figure, output_file, show\n",
    "\n",
    "# DFIR Imports\n",
    "from timesketch_api_client import client\n",
    "from timesketch_api_client import config\n",
    "import timesketch_api_client\n",
    "\n",
    "# DS4N6\n",
    "import ds4n6_lib.d4          as d4\n",
    "import ds4n6_lib.common      as d4com\n",
    "import ds4n6_lib.autoruns    as d4atrs\n",
    "import ds4n6_lib.fstl        as d4fstl\n",
    "import ds4n6_lib.plaso       as d4pl\n",
    "import ds4n6_lib.kansa       as d4ksa\n",
    "import ds4n6_lib.kape        as d4kp\n",
    "import ds4n6_lib.evtx        as d4evtx\n",
    "import ds4n6_lib.unx         as d4unx\n",
    "import ds4n6_lib.utils       as d4utl\n",
    "import ds4n6_lib.volatility  as d4vol\n",
    "import ds4n6_lib.gui         as d4gui\n",
    "\n",
    "from ds4n6_lib.common import harmonize\n",
    "#from ds4n6_lib.common import hrm\n",
    "from ds4n6_lib.common import analysis\n",
    "from ds4n6_lib.common import anl\n",
    "from ds4n6_lib.common import whatis\n",
    "from ds4n6_lib.unx    import xgrep\n",
    "from ds4n6_lib.gui    import read_data_gui\n",
    "from ds4n6_lib.gui    import xdisplay\n",
    "from ds4n6_lib.gui    import xmenu\n",
    "\n",
    "# Standard python imports\n",
    "from time import sleep\n",
    "import datetime\n",
    "import time\n",
    "import re\n",
    "import os.path\n",
    "import nbformat as nbf\n",
    "import calendar\n",
    "import glob\n",
    "import xmltodict\n",
    "import untangle\n",
    "import importlib\n",
    "import logging\n",
    "\n",
    "# Data Save/Restore\n",
    "import dill\n",
    "import pickle\n",
    "\n",
    "import warnings\n",
    "warnings.filterwarnings(\"ignore\",category=DeprecationWarning)\n",
    "warnings.filterwarnings(\"ignore\",category=UserWarning)"
   ]
  },
  {
   "cell_type": "code",
   "execution_count": 3,
   "metadata": {},
   "outputs": [],
   "source": [
    "# TO BE COPIED TO OTHER NOTEBOOKS FOR CODE DEBUGGING\n",
    "\n",
    "# importlib.reload(d4pl)\n",
    "# importlib.reload(d4com)\n",
    "# importlib.reload(d4gui)\n",
    "# importlib.reload(d4evtx)"
   ]
  },
  {
   "cell_type": "markdown",
   "metadata": {},
   "source": [
    "## **VISUALIZATION & RENDERING**"
   ]
  },
  {
   "cell_type": "code",
   "execution_count": 4,
   "metadata": {},
   "outputs": [],
   "source": [
    "pd.set_option('display.width', None) \n",
    "pd.set_option(\"max_columns\", None)\n",
    "pd.set_option('display.max_colwidth', None)\n",
    "pd.set_option('display.colheader_justify', 'left')\n",
    "pd.set_option(\"max_rows\", 200)"
   ]
  },
  {
   "cell_type": "code",
   "execution_count": 5,
   "metadata": {},
   "outputs": [],
   "source": [
    "pd.set_option(\"max_rows\", 700)"
   ]
  },
  {
   "cell_type": "code",
   "execution_count": 6,
   "metadata": {},
   "outputs": [
    {
     "data": {
      "text/html": [
       "<style>\n",
       "table {float:left}\n",
       "</style>\n"
      ],
      "text/plain": [
       "<IPython.core.display.HTML object>"
      ]
     },
     "metadata": {},
     "output_type": "display_data"
    }
   ],
   "source": [
    "%%html\n",
    "<style>\n",
    "table {float:left}\n",
    "</style>"
   ]
  },
  {
   "cell_type": "markdown",
   "metadata": {},
   "source": [
    "## **LOGGING CONFIGURATION**"
   ]
  },
  {
   "cell_type": "code",
   "execution_count": 7,
   "metadata": {},
   "outputs": [],
   "source": [
    "logging.basicConfig(\n",
    "    filename=nbd+'/execution.log',\n",
    "    format='%(asctime)s %(levelname)-8s %(message)s',\n",
    "    level=logging.DEBUG,\n",
    "    datefmt='%Y-%m-%d %H:%M:%S')"
   ]
  },
  {
   "cell_type": "code",
   "execution_count": null,
   "metadata": {},
   "outputs": [],
   "source": []
  },
  {
   "cell_type": "code",
   "execution_count": null,
   "metadata": {},
   "outputs": [],
   "source": []
  },
  {
   "cell_type": "code",
   "execution_count": null,
   "metadata": {},
   "outputs": [],
   "source": []
  },
  {
   "cell_type": "code",
   "execution_count": null,
   "metadata": {},
   "outputs": [],
   "source": []
  },
  {
   "cell_type": "code",
   "execution_count": null,
   "metadata": {},
   "outputs": [],
   "source": []
  }
 ],
 "metadata": {
  "kernelspec": {
   "display_name": "Python 3",
   "language": "python",
   "name": "python3"
  },
  "language_info": {
   "codemirror_mode": {
    "name": "ipython",
    "version": 3
   },
   "file_extension": ".py",
   "mimetype": "text/x-python",
   "name": "python",
   "nbconvert_exporter": "python",
   "pygments_lexer": "ipython3",
   "version": "3.7.6"
  }
 },
 "nbformat": 4,
 "nbformat_minor": 4
}
