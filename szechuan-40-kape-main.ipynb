{
 "cells": [
  {
   "cell_type": "markdown",
   "metadata": {},
   "source": [
    "# **SZECHUAN - 40 - KAPE - MAIN**"
   ]
  },
  {
   "cell_type": "markdown",
   "metadata": {},
   "source": [
    "## **FUNCTIONS, VARS, INIT**"
   ]
  },
  {
   "cell_type": "code",
   "execution_count": 1,
   "metadata": {},
   "outputs": [
    {
     "data": {
      "text/html": [
       "<style>\n",
       "table {float:left}\n",
       "</style>\n"
      ],
      "text/plain": [
       "<IPython.core.display.HTML object>"
      ]
     },
     "metadata": {},
     "output_type": "display_data"
    }
   ],
   "source": [
    "# Define your notebook full file path here to be able to automatically store runtime configuration settings in this notebook\n",
    "thisnb=\"/mnt/analysis/dev/testing_system/test_notebooks/szechuan-40-kape-main.ipynb\"\n",
    "\n",
    "# Set casename here. This notebook must be renamed with that name.\n",
    "%run szechuan_00_imports_case_variables.ipynb"
   ]
  },
  {
   "cell_type": "code",
   "execution_count": 2,
   "metadata": {},
   "outputs": [],
   "source": [
    "warnings.filterwarnings(\"ignore\")"
   ]
  },
  {
   "cell_type": "markdown",
   "metadata": {},
   "source": [
    "---"
   ]
  },
  {
   "cell_type": "raw",
   "metadata": {},
   "source": [
    "# TO BE COPIED TO OTHER NOTEBOOKS FOR CODE DEBUGGING\n",
    "\n",
    "# importlib.reload(d4pl)\n",
    "importlib.reload(d4kp)\n",
    "importlib.reload(d4com)\n",
    "importlib.reload(d4gui)\n",
    "# importlib.reload(d4evtx)"
   ]
  },
  {
   "cell_type": "markdown",
   "metadata": {},
   "source": [
    "## **READ KAPE FILES**"
   ]
  },
  {
   "cell_type": "markdown",
   "metadata": {},
   "source": [
    "### **laptop-cdrive**"
   ]
  },
  {
   "cell_type": "code",
   "execution_count": 3,
   "metadata": {},
   "outputs": [],
   "source": [
    "# Enter computer name here (i.e. evidence file prefix, e.g. compname = \"dsk1723\")\n",
    "compname = '20200918_0347_cdrive-ft-p03'\n",
    "hostname = '20200918_0347_cdrive-ft-p03'"
   ]
  },
  {
   "cell_type": "markdown",
   "metadata": {},
   "source": [
    "#### **PATH DEFINITIONS**"
   ]
  },
  {
   "cell_type": "markdown",
   "metadata": {},
   "source": [
    "##### **FOREST**"
   ]
  },
  {
   "cell_type": "markdown",
   "metadata": {},
   "source": [
    "**comp**<br>\n",
    "Use this configuration if you have a single computer, and its kape evidence is under the comp folder"
   ]
  },
  {
   "cell_type": "code",
   "execution_count": 4,
   "metadata": {},
   "outputs": [],
   "source": [
    "compod  = caseod+'/f4n6/comps/'+compname\n",
    "kaped = compod+'/kape'"
   ]
  },
  {
   "cell_type": "code",
   "execution_count": 5,
   "metadata": {},
   "outputs": [
    {
     "data": {
      "text/plain": [
       "'/mnt/analysis/cases/szechuan/f4n6/comps/20200918_0347_cdrive-ft-p03/kape'"
      ]
     },
     "execution_count": 5,
     "metadata": {},
     "output_type": "execute_result"
    }
   ],
   "source": [
    "kaped"
   ]
  },
  {
   "cell_type": "markdown",
   "metadata": {},
   "source": [
    "#### **READ DATA**"
   ]
  },
  {
   "cell_type": "raw",
   "metadata": {},
   "source": [
    "# TO BE COPIED TO OTHER NOTEBOOKS FOR CODE DEBUGGING\n",
    "\n",
    "# importlib.reload(d4pl)\n",
    "importlib.reload(d4kp)\n",
    "importlib.reload(d4com)\n",
    "importlib.reload(d4gui)\n",
    "# importlib.reload(d4evtx)"
   ]
  },
  {
   "cell_type": "code",
   "execution_count": 6,
   "metadata": {},
   "outputs": [
    {
     "name": "stdout",
     "output_type": "stream",
     "text": [
      "- Searching notebook for saved input file / folder (20200918_0347_cdrive-ft-p03_kaped)\n",
      "  + Found: /mnt/analysis/cases/szechuan/f4n6/comps/20200918_0347_cdrive-ft-p03/kape\n",
      "\n",
      "- Reading file(s):\n",
      "  + Reading csv file 2020-11-16T033123_!SANS_Triage_copylog.csv                                                                     into dataframe ->  artifacts-2020-11-16T033123_!SANS_Triage_copylog                                                     \n",
      "ERROR: The D4_Plugin_ column is NaN. Cannot fully Harmonize data.\n",
      "       Did you specify the \"pluginisdfname=True\"\n",
      "       when reading the input files?\n",
      "  + Reading csv file 2020-11-16T033123_!SANS_Triage_skiplog.csv                                                                     into dataframe ->  artifacts-2020-11-16T033123_!SANS_Triage_skiplog                                                     \n",
      "  + Reading csv file 20201116033046_CustomDestinations.csv                                                                          into dataframe ->  output/csv/FileFolderAccess-CustomDestinations                                                       \n",
      "ERROR: The D4_Plugin_ column is NaN. Cannot fully Harmonize data.\n",
      "       Did you specify the \"pluginisdfname=True\"\n",
      "       when reading the input files?\n",
      "  + Reading csv file G__szechuan_kape_artifacts_F_Users_Administrator_ntuser.dat.csv                                                into dataframe ->  output/csv/FileFolderAccess-G__szechuan_kape_artifacts_F_Users_Administrator_ntuser.dat              \n",
      "  + Reading csv file 20201116033046_LECmd_Output.csv                                                                                into dataframe ->  output/csv/FileFolderAccess-LECmd                                                                    \n",
      "ERROR: The D4_Plugin_ column is NaN. Cannot fully Harmonize data.\n",
      "       Did you specify the \"pluginisdfname=True\"\n",
      "       when reading the input files?\n",
      "  + Reading csv file G__szechuan_kape_artifacts_F_Users_Administrator_AppData_Local_Microsoft_Windows_UsrClass.dat.csv              into dataframe ->  output/csv/FileFolderAccess-G__szechuan_kape_artifacts_F_Users_Administrator_AppData_Local_Microsoft_Windows_UsrClass.dat \n",
      "ERROR: The D4_Plugin_ column is NaN. Cannot fully Harmonize data.\n",
      "       Did you specify the \"pluginisdfname=True\"\n",
      "       when reading the input files?\n",
      "  + Reading csv file 20201116033046_AutomaticDestinations.csv                                                                       into dataframe ->  output/csv/FileFolderAccess-AutomaticDestinations                                                    \n",
      "ERROR: The D4_Plugin_ column is NaN. Cannot fully Harmonize data.\n",
      "       Did you specify the \"pluginisdfname=True\"\n",
      "       when reading the input files?\n",
      "  + Reading csv file 20201116033005_Amcache_AssociatedFileEntries.csv                                                               into dataframe ->  output/csv/ProgramExecution-Amcache_AssociatedFileEntries                                            \n",
      "ERROR: The D4_Plugin_ column is NaN. Cannot fully Harmonize data.\n",
      "       Did you specify the \"pluginisdfname=True\"\n",
      "       when reading the input files?\n",
      "  + Reading csv file 20201116033005_Amcache_UnassociatedFileEntries.csv                                                             into dataframe ->  output/csv/ProgramExecution-Amcache_UnassociatedFileEntries                                          \n",
      "ERROR: The D4_Plugin_ column is NaN. Cannot fully Harmonize data.\n",
      "       Did you specify the \"pluginisdfname=True\"\n",
      "       when reading the input files?\n",
      "  + Reading csv file 20201116033005_Amcache_ProgramEntries.csv                                                                      into dataframe ->  output/csv/ProgramExecution-Amcache_ProgramEntries                                                   \n",
      "ERROR: The D4_Plugin_ column is NaN. Cannot fully Harmonize data.\n",
      "       Did you specify the \"pluginisdfname=True\"\n",
      "       when reading the input files?\n",
      "  + Reading csv file 20201116033008_Windows81_Windows2012R2_SYSTEM_AppCompatCache.csv                                               into dataframe ->  output/csv/ProgramExecution-Windows81_Windows2012R2_SYSTEM_AppCompatCache                            \n",
      "ERROR: The D4_Plugin_ column is NaN. Cannot fully Harmonize data.\n",
      "       Did you specify the \"pluginisdfname=True\"\n",
      "       when reading the input files?\n",
      "  + Reading csv file 20201116033047_RBCmd_Output.csv                                                                                into dataframe ->  output/csv/FileDeletion-RBCmd                                                                        \n",
      "ERROR: The D4_Plugin_ column is NaN. Cannot fully Harmonize data.\n",
      "       Did you specify the \"pluginisdfname=True\"\n",
      "       when reading the input files?\n",
      "  + Reading csv file 20201116033009_EvtxECmd_Output.csv                                                                             into dataframe ->  output/csv/EventLogs-EvtxECmd                                                                        \n",
      "ERROR: The D4_Plugin_ column is NaN. Cannot fully Harmonize data.\n",
      "       Did you specify the \"pluginisdfname=True\"\n",
      "       when reading the input files?\n",
      "  + Reading csv file 20201116033049_Services_G_szechuan_kape_artifacts_F_Windows_system32_config_SYSTEM.csv                         into dataframe ->  output/csv/Registry-Services_G_szechuan_kape_artifacts_F_Windows_system32_config_SYSTEM              \n",
      "ERROR: The D4_Plugin_ column is NaN. Cannot fully Harmonize data.\n",
      "       Did you specify the \"pluginisdfname=True\"\n",
      "       when reading the input files?\n",
      "  + Reading csv file 20201116033049_OpenSavePidlMRU_G_szechuan_kape_artifacts_F_Users_Administrator_ntuser.dat.csv                  into dataframe ->  output/csv/Registry-OpenSavePidlMRU_G_szechuan_kape_artifacts_F_Users_Administrator_ntuser.dat       \n",
      "ERROR: The D4_Plugin_ column is NaN. Cannot fully Harmonize data.\n",
      "       Did you specify the \"pluginisdfname=True\"\n",
      "       when reading the input files?\n",
      "  + Reading csv file 20201116033049_TimeZoneInfo_G_szechuan_kape_artifacts_F_Windows_system32_config_SYSTEM.csv                     into dataframe ->  output/csv/Registry-TimeZoneInfo_G_szechuan_kape_artifacts_F_Windows_system32_config_SYSTEM          \n",
      "ERROR: The D4_Plugin_ column is NaN. Cannot fully Harmonize data.\n",
      "       Did you specify the \"pluginisdfname=True\"\n",
      "       when reading the input files?\n",
      "  + Reading csv file 20201116033049_CIDSizeMRU_G_szechuan_kape_artifacts_F_Users_Administrator_ntuser.dat.csv                       into dataframe ->  output/csv/Registry-CIDSizeMRU_G_szechuan_kape_artifacts_F_Users_Administrator_ntuser.dat            \n",
      "ERROR: The D4_Plugin_ column is NaN. Cannot fully Harmonize data.\n",
      "       Did you specify the \"pluginisdfname=True\"\n",
      "       when reading the input files?\n",
      "  + Reading csv file 20201116033049_RecentDocs_G_szechuan_kape_artifacts_F_Users_Administrator_ntuser.dat.csv                       into dataframe ->  output/csv/Registry-RecentDocs_G_szechuan_kape_artifacts_F_Users_Administrator_ntuser.dat            \n",
      "ERROR: The D4_Plugin_ column is NaN. Cannot fully Harmonize data.\n",
      "       Did you specify the \"pluginisdfname=True\"\n",
      "       when reading the input files?\n",
      "  + Reading csv file 20201116033049_KnownNetworks_G_szechuan_kape_artifacts_F_Windows_system32_config_SOFTWARE.csv                  into dataframe ->  output/csv/Registry-KnownNetworks_G_szechuan_kape_artifacts_F_Windows_system32_config_SOFTWARE       \n",
      "ERROR: The D4_Plugin_ column is NaN. Cannot fully Harmonize data.\n",
      "       Did you specify the \"pluginisdfname=True\"\n",
      "       when reading the input files?\n",
      "  + Reading csv file 20201116033049_MountedDevices_G_szechuan_kape_artifacts_F_Windows_system32_config_SYSTEM.csv                   into dataframe ->  output/csv/Registry-MountedDevices_G_szechuan_kape_artifacts_F_Windows_system32_config_SYSTEM        \n",
      "ERROR: The D4_Plugin_ column is NaN. Cannot fully Harmonize data.\n",
      "       Did you specify the \"pluginisdfname=True\"\n",
      "       when reading the input files?\n",
      "  + Reading csv file 20201116033049_LastVisitedPidlMRU_G_szechuan_kape_artifacts_F_Users_Administrator_ntuser.dat.csv               into dataframe ->  output/csv/Registry-LastVisitedPidlMRU_G_szechuan_kape_artifacts_F_Users_Administrator_ntuser.dat    \n",
      "ERROR: The D4_Plugin_ column is NaN. Cannot fully Harmonize data.\n",
      "       Did you specify the \"pluginisdfname=True\"\n",
      "       when reading the input files?\n",
      "  + Reading csv file 20201116033049_UserAssist_G_szechuan_kape_artifacts_F_Users_Administrator_ntuser.dat.csv                       into dataframe ->  output/csv/Registry-UserAssist_G_szechuan_kape_artifacts_F_Users_Administrator_ntuser.dat            \n",
      "ERROR: The D4_Plugin_ column is NaN. Cannot fully Harmonize data.\n",
      "       Did you specify the \"pluginisdfname=True\"\n",
      "       when reading the input files?\n",
      "  + Reading csv file 20201116033049_TerminalServerClient_G_szechuan_kape_artifacts_F_Users_Administrator_ntuser.dat.csv             into dataframe ->  output/csv/Registry-TerminalServerClient_G_szechuan_kape_artifacts_F_Users_Administrator_ntuser.dat  \n",
      "ERROR: The D4_Plugin_ column is NaN. Cannot fully Harmonize data.\n",
      "       Did you specify the \"pluginisdfname=True\"\n",
      "       when reading the input files?\n",
      "  + Reading csv file 20201116033049_FileExts_G_szechuan_kape_artifacts_F_Users_Administrator_ntuser.dat.csv                         into dataframe ->  output/csv/Registry-FileExts_G_szechuan_kape_artifacts_F_Users_Administrator_ntuser.dat              \n",
      "ERROR: The D4_Plugin_ column is NaN. Cannot fully Harmonize data.\n",
      "       Did you specify the \"pluginisdfname=True\"\n",
      "       when reading the input files?\n",
      "  + Reading csv file 20201116033049_TypedURLs_G_szechuan_kape_artifacts_F_Users_Administrator_ntuser.dat.csv                        into dataframe ->  output/csv/Registry-TypedURLs_G_szechuan_kape_artifacts_F_Users_Administrator_ntuser.dat             \n",
      "ERROR: The D4_Plugin_ column is NaN. Cannot fully Harmonize data.\n",
      "       Did you specify the \"pluginisdfname=True\"\n",
      "       when reading the input files?\n",
      "  + Reading csv file 20201116033049_RECmd_Batch_RECmd_Batch_MC_Output.csv                                                           into dataframe ->  output/csv/Registry-RECmd_Batch_RECmd_Batch_MC                                                       \n",
      "ERROR: The D4_Plugin_ column is NaN. Cannot fully Harmonize data.\n",
      "       Did you specify the \"pluginisdfname=True\"\n",
      "       when reading the input files?\n",
      "  + Reading csv file 20201116033206_Amcache_UnassociatedFileEntries.csv                                                             into dataframe ->  output/json/ProgramExecution-Amcache_UnassociatedFileEntries                                         \n",
      "ERROR: The D4_Plugin_ column is NaN. Cannot fully Harmonize data.\n",
      "       Did you specify the \"pluginisdfname=True\"\n",
      "       when reading the input files?\n",
      "  + Reading csv file 20201116033206_Amcache_ProgramEntries.csv                                                                      into dataframe ->  output/json/ProgramExecution-Amcache_ProgramEntries                                                  \n",
      "ERROR: The D4_Plugin_ column is NaN. Cannot fully Harmonize data.\n",
      "       Did you specify the \"pluginisdfname=True\"\n",
      "       when reading the input files?\n",
      "  + Reading csv file 20201116033208_Windows81_Windows2012R2_SYSTEM_AppCompatCache.csv                                               into dataframe ->  output/json/ProgramExecution-Windows81_Windows2012R2_SYSTEM_AppCompatCache                           \n",
      "ERROR: The D4_Plugin_ column is NaN. Cannot fully Harmonize data.\n",
      "       Did you specify the \"pluginisdfname=True\"\n",
      "       when reading the input files?\n",
      "  + Reading csv file 20201116033206_Amcache_AssociatedFileEntries.csv                                                               into dataframe ->  output/json/ProgramExecution-Amcache_AssociatedFileEntries                                           \n",
      "ERROR: The D4_Plugin_ column is NaN. Cannot fully Harmonize data.\n",
      "       Did you specify the \"pluginisdfname=True\"\n",
      "       when reading the input files?\n",
      "  + Reading csv file G__szechuan_kape_artifacts_F_Users_Administrator_AppData_Local_Microsoft_Windows_UsrClass.dat.csv              into dataframe ->  output/json/FileFolderAccess-G__szechuan_kape_artifacts_F_Users_Administrator_AppData_Local_Microsoft_Windows_UsrClass.dat \n",
      "ERROR: The D4_Plugin_ column is NaN. Cannot fully Harmonize data.\n",
      "       Did you specify the \"pluginisdfname=True\"\n",
      "       when reading the input files?\n",
      "  + Reading csv file G__szechuan_kape_artifacts_F_Users_Administrator_ntuser.dat.csv                                                into dataframe ->  output/json/FileFolderAccess-G__szechuan_kape_artifacts_F_Users_Administrator_ntuser.dat             \n",
      "  + Reading csv file 20201116033239_RBCmd_Output.csv                                                                                into dataframe ->  output/json/FileDeletion-RBCmd                                                                       \n",
      "ERROR: The D4_Plugin_ column is NaN. Cannot fully Harmonize data.\n",
      "       Did you specify the \"pluginisdfname=True\"\n",
      "       when reading the input files?\n",
      "  + Reading csv file 20201116033240_TypedURLs_G_szechuan_kape_artifacts_F_Users_Administrator_ntuser.dat.csv                        into dataframe ->  output/json/Registry-TypedURLs_G_szechuan_kape_artifacts_F_Users_Administrator_ntuser.dat            \n",
      "ERROR: The D4_Plugin_ column is NaN. Cannot fully Harmonize data.\n",
      "       Did you specify the \"pluginisdfname=True\"\n",
      "       when reading the input files?\n",
      "  + Reading csv file 20201116033240_TimeZoneInfo_G_szechuan_kape_artifacts_F_Windows_system32_config_SYSTEM.csv                     into dataframe ->  output/json/Registry-TimeZoneInfo_G_szechuan_kape_artifacts_F_Windows_system32_config_SYSTEM         \n",
      "ERROR: The D4_Plugin_ column is NaN. Cannot fully Harmonize data.\n",
      "       Did you specify the \"pluginisdfname=True\"\n",
      "       when reading the input files?\n",
      "  + Reading csv file 20201116033240_LastVisitedPidlMRU_G_szechuan_kape_artifacts_F_Users_Administrator_ntuser.dat.csv               into dataframe ->  output/json/Registry-LastVisitedPidlMRU_G_szechuan_kape_artifacts_F_Users_Administrator_ntuser.dat   \n",
      "ERROR: The D4_Plugin_ column is NaN. Cannot fully Harmonize data.\n",
      "       Did you specify the \"pluginisdfname=True\"\n",
      "       when reading the input files?\n",
      "  + Reading csv file 20201116033240_RecentDocs_G_szechuan_kape_artifacts_F_Users_Administrator_ntuser.dat.csv                       into dataframe ->  output/json/Registry-RecentDocs_G_szechuan_kape_artifacts_F_Users_Administrator_ntuser.dat           \n",
      "ERROR: The D4_Plugin_ column is NaN. Cannot fully Harmonize data.\n",
      "       Did you specify the \"pluginisdfname=True\"\n",
      "       when reading the input files?\n",
      "  + Reading csv file 20201116033240_KnownNetworks_G_szechuan_kape_artifacts_F_Windows_system32_config_SOFTWARE.csv                  into dataframe ->  output/json/Registry-KnownNetworks_G_szechuan_kape_artifacts_F_Windows_system32_config_SOFTWARE      \n",
      "ERROR: The D4_Plugin_ column is NaN. Cannot fully Harmonize data.\n",
      "       Did you specify the \"pluginisdfname=True\"\n",
      "       when reading the input files?\n",
      "  + Reading csv file 20201116033240_RECmd_Batch_RECmd_Batch_MC_Output.csv                                                           into dataframe ->  output/json/Registry-RECmd_Batch_RECmd_Batch_MC                                                      \n",
      "ERROR: The D4_Plugin_ column is NaN. Cannot fully Harmonize data.\n",
      "       Did you specify the \"pluginisdfname=True\"\n",
      "       when reading the input files?\n",
      "  + Reading csv file 20201116033240_MountedDevices_G_szechuan_kape_artifacts_F_Windows_system32_config_SYSTEM.csv                   into dataframe ->  output/json/Registry-MountedDevices_G_szechuan_kape_artifacts_F_Windows_system32_config_SYSTEM       \n",
      "ERROR: The D4_Plugin_ column is NaN. Cannot fully Harmonize data.\n",
      "       Did you specify the \"pluginisdfname=True\"\n",
      "       when reading the input files?\n",
      "  + Reading csv file 20201116033240_UserAssist_G_szechuan_kape_artifacts_F_Users_Administrator_ntuser.dat.csv                       into dataframe ->  output/json/Registry-UserAssist_G_szechuan_kape_artifacts_F_Users_Administrator_ntuser.dat           \n",
      "ERROR: The D4_Plugin_ column is NaN. Cannot fully Harmonize data.\n",
      "       Did you specify the \"pluginisdfname=True\"\n",
      "       when reading the input files?\n",
      "  + Reading csv file 20201116033240_CIDSizeMRU_G_szechuan_kape_artifacts_F_Users_Administrator_ntuser.dat.csv                       into dataframe ->  output/json/Registry-CIDSizeMRU_G_szechuan_kape_artifacts_F_Users_Administrator_ntuser.dat           \n",
      "ERROR: The D4_Plugin_ column is NaN. Cannot fully Harmonize data.\n",
      "       Did you specify the \"pluginisdfname=True\"\n",
      "       when reading the input files?\n",
      "  + Reading csv file 20201116033240_OpenSavePidlMRU_G_szechuan_kape_artifacts_F_Users_Administrator_ntuser.dat.csv                  into dataframe ->  output/json/Registry-OpenSavePidlMRU_G_szechuan_kape_artifacts_F_Users_Administrator_ntuser.dat      \n",
      "ERROR: The D4_Plugin_ column is NaN. Cannot fully Harmonize data.\n",
      "       Did you specify the \"pluginisdfname=True\"\n",
      "       when reading the input files?\n",
      "  + Reading csv file 20201116033240_TerminalServerClient_G_szechuan_kape_artifacts_F_Users_Administrator_ntuser.dat.csv             into dataframe ->  output/json/Registry-TerminalServerClient_G_szechuan_kape_artifacts_F_Users_Administrator_ntuser.dat \n",
      "ERROR: The D4_Plugin_ column is NaN. Cannot fully Harmonize data.\n",
      "       Did you specify the \"pluginisdfname=True\"\n",
      "       when reading the input files?\n",
      "  + Reading csv file 20201116033240_Services_G_szechuan_kape_artifacts_F_Windows_system32_config_SYSTEM.csv                         into dataframe ->  output/json/Registry-Services_G_szechuan_kape_artifacts_F_Windows_system32_config_SYSTEM             \n",
      "ERROR: The D4_Plugin_ column is NaN. Cannot fully Harmonize data.\n",
      "       Did you specify the \"pluginisdfname=True\"\n",
      "       when reading the input files?\n",
      "  + Reading csv file 20201116033240_FileExts_G_szechuan_kape_artifacts_F_Users_Administrator_ntuser.dat.csv                         into dataframe ->  output/json/Registry-FileExts_G_szechuan_kape_artifacts_F_Users_Administrator_ntuser.dat             \n",
      "ERROR: The D4_Plugin_ column is NaN. Cannot fully Harmonize data.\n",
      "       Did you specify the \"pluginisdfname=True\"\n",
      "       when reading the input files?\n",
      "\n",
      "\n",
      "NOTE: Now you can use the syntax <yourvar>['Category'] to access your dataframe\n",
      "\n",
      "\n",
      "- Reading Done.\n",
      "\n",
      "- Recover the object read by executing:  myvar = d4.out (e.g. mydf = d4.out)\n",
      "\n"
     ]
    }
   ],
   "source": [
    "read_data_gui(tool=\"kape\", rootpath=kaped, folder_parsing_mode=\"single_host_with_categories\", notebook_file=thisnb, use_pickle=False, hostname=hostname, path_prefix=\"G__exercises_kape_output-jg\")"
   ]
  },
  {
   "cell_type": "code",
   "execution_count": 7,
   "metadata": {},
   "outputs": [],
   "source": [
    "kpdfs = d4.out"
   ]
  },
  {
   "cell_type": "code",
   "execution_count": 8,
   "metadata": {},
   "outputs": [],
   "source": [
    "# Automatically created - DO NOT EDIT OR REMOVE unless you want to change the file to read (in that case, remove this cell)\n",
    "# 2021-03-30 19:23:04.635037\n",
    "# 20200918_0347_cdrive-ft-p03_kaped_f2read = \"/mnt/analysis/cases/szechuan/f4n6/comps/20200918_0347_cdrive-ft-p03/kape\""
   ]
  },
  {
   "cell_type": "markdown",
   "metadata": {},
   "source": [
    "---"
   ]
  },
  {
   "cell_type": "markdown",
   "metadata": {},
   "source": [
    "## **ANALYSIS**"
   ]
  },
  {
   "cell_type": "markdown",
   "metadata": {},
   "source": [
    "### **GENERIC**"
   ]
  },
  {
   "cell_type": "code",
   "execution_count": 9,
   "metadata": {},
   "outputs": [
    {
     "data": {
      "text/markdown": [
       "#### Pandas options"
      ],
      "text/plain": [
       "<IPython.core.display.Markdown object>"
      ]
     },
     "metadata": {},
     "output_type": "display_data"
    },
    {
     "data": {
      "application/vnd.jupyter.widget-view+json": {
       "model_id": "f2442ef2821744b5af58012e5ef04559",
       "version_major": 2,
       "version_minor": 0
      },
      "text/plain": [
       "IntText(value=700, description='display.max_rows: ', style=DescriptionStyle(description_width='initial'))"
      ]
     },
     "metadata": {},
     "output_type": "display_data"
    },
    {
     "data": {
      "application/vnd.jupyter.widget-view+json": {
       "model_id": "12d40d0d29374c9ba5e5f6e5eb722fb7",
       "version_major": 2,
       "version_minor": 0
      },
      "text/plain": [
       "IntText(value=10, description='display.min_rows: ', style=DescriptionStyle(description_width='initial'))"
      ]
     },
     "metadata": {},
     "output_type": "display_data"
    },
    {
     "data": {
      "application/vnd.jupyter.widget-view+json": {
       "model_id": "18ff3bf79ab04c2ab1a45b44910a7897",
       "version_major": 2,
       "version_minor": 0
      },
      "text/plain": [
       "IntText(value=0, description='display.max_columns: ', style=DescriptionStyle(description_width='initial'))"
      ]
     },
     "metadata": {},
     "output_type": "display_data"
    },
    {
     "data": {
      "application/vnd.jupyter.widget-view+json": {
       "model_id": "70f50d4d7c8f4ee5852a9179f979e200",
       "version_major": 2,
       "version_minor": 0
      },
      "text/plain": [
       "Dropdown(description='display.colheader_justify: ', index=1, options=('right', 'left'), style=DescriptionStyle…"
      ]
     },
     "metadata": {},
     "output_type": "display_data"
    },
    {
     "data": {
      "application/vnd.jupyter.widget-view+json": {
       "model_id": "242c6b78d6714b428c8621ee9d153c04",
       "version_major": 2,
       "version_minor": 0
      },
      "text/plain": [
       "Checkbox(value=True, description='display.expand_frame_repr', indent=False, style=DescriptionStyle(description…"
      ]
     },
     "metadata": {},
     "output_type": "display_data"
    }
   ],
   "source": [
    "xdisplay()"
   ]
  },
  {
   "cell_type": "code",
   "execution_count": 10,
   "metadata": {},
   "outputs": [
    {
     "ename": "IndexError",
     "evalue": "list index out of range",
     "output_type": "error",
     "traceback": [
      "\u001b[0;31m---------------------------------------------------------------------------\u001b[0m",
      "\u001b[0;31mIndexError\u001b[0m                                Traceback (most recent call last)",
      "\u001b[0;32m<ipython-input-10-c0d8dc2d847c>\u001b[0m in \u001b[0;36m<module>\u001b[0;34m\u001b[0m\n\u001b[0;32m----> 1\u001b[0;31m \u001b[0mxmenu\u001b[0m\u001b[0;34m(\u001b[0m\u001b[0mkpdfs\u001b[0m\u001b[0;34m)\u001b[0m\u001b[0;34m\u001b[0m\u001b[0;34m\u001b[0m\u001b[0m\n\u001b[0m",
      "\u001b[0;32m/mnt/analysis/dev/testing_system/test_notebooks/ds4n6_lib/gui.py\u001b[0m in \u001b[0;36mxmenu\u001b[0;34m(obj, engine)\u001b[0m\n\u001b[1;32m    207\u001b[0m             \u001b[0mdfs_explorer\u001b[0m\u001b[0;34m:\u001b[0m \u001b[0minstance\u001b[0m \u001b[0mthat\u001b[0m \u001b[0mdisplay\u001b[0m \u001b[0mthe\u001b[0m \u001b[0mUI\u001b[0m\u001b[0;34m\u001b[0m\u001b[0;34m\u001b[0m\u001b[0m\n\u001b[1;32m    208\u001b[0m     \"\"\"\n\u001b[0;32m--> 209\u001b[0;31m     \u001b[0mobjtype\u001b[0m \u001b[0;34m=\u001b[0m \u001b[0md4com\u001b[0m\u001b[0;34m.\u001b[0m\u001b[0mdata_identify\u001b[0m\u001b[0;34m(\u001b[0m\u001b[0mobj\u001b[0m\u001b[0;34m)\u001b[0m\u001b[0;34m\u001b[0m\u001b[0;34m\u001b[0m\u001b[0m\n\u001b[0m\u001b[1;32m    210\u001b[0m     \u001b[0mcolumn_mode\u001b[0m \u001b[0;34m=\u001b[0m \u001b[0;32mFalse\u001b[0m\u001b[0;34m\u001b[0m\u001b[0;34m\u001b[0m\u001b[0m\n\u001b[1;32m    211\u001b[0m     \u001b[0;32mif\u001b[0m \u001b[0mre\u001b[0m\u001b[0;34m.\u001b[0m\u001b[0msearch\u001b[0m\u001b[0;34m(\u001b[0m\u001b[0;34m\"^pandas_dataframe-\"\u001b[0m\u001b[0;34m,\u001b[0m \u001b[0mobjtype\u001b[0m\u001b[0;34m)\u001b[0m\u001b[0;34m:\u001b[0m\u001b[0;34m\u001b[0m\u001b[0;34m\u001b[0m\u001b[0m\n",
      "\u001b[0;32m/mnt/analysis/dev/testing_system/test_notebooks/ds4n6_lib/common.py\u001b[0m in \u001b[0;36mdata_identify\u001b[0;34m(obj)\u001b[0m\n\u001b[1;32m    574\u001b[0m         \u001b[0;32mreturn\u001b[0m \u001b[0mstr_source_identify_func\u001b[0m\u001b[0;34m(\u001b[0m\u001b[0mobj\u001b[0m\u001b[0;34m)\u001b[0m\u001b[0;34m\u001b[0m\u001b[0;34m\u001b[0m\u001b[0m\n\u001b[1;32m    575\u001b[0m     \u001b[0;32melif\u001b[0m \u001b[0misinstance\u001b[0m\u001b[0;34m(\u001b[0m\u001b[0mobj\u001b[0m\u001b[0;34m,\u001b[0m \u001b[0mdict\u001b[0m\u001b[0;34m)\u001b[0m\u001b[0;34m:\u001b[0m\u001b[0;34m\u001b[0m\u001b[0;34m\u001b[0m\u001b[0m\n\u001b[0;32m--> 576\u001b[0;31m         \u001b[0;32mreturn\u001b[0m \u001b[0mdict_source_identify_func\u001b[0m\u001b[0;34m(\u001b[0m\u001b[0mobj\u001b[0m\u001b[0;34m)\u001b[0m\u001b[0;34m\u001b[0m\u001b[0;34m\u001b[0m\u001b[0m\n\u001b[0m\u001b[1;32m    577\u001b[0m     \u001b[0;32melif\u001b[0m \u001b[0misinstance\u001b[0m\u001b[0;34m(\u001b[0m\u001b[0mobj\u001b[0m\u001b[0;34m,\u001b[0m \u001b[0mpd\u001b[0m\u001b[0;34m.\u001b[0m\u001b[0mDataFrame\u001b[0m\u001b[0;34m)\u001b[0m\u001b[0;34m:\u001b[0m\u001b[0;34m\u001b[0m\u001b[0;34m\u001b[0m\u001b[0m\n\u001b[1;32m    578\u001b[0m         \u001b[0;32mreturn\u001b[0m \u001b[0mdf_source_identify_func\u001b[0m\u001b[0;34m(\u001b[0m\u001b[0mobj\u001b[0m\u001b[0;34m)\u001b[0m\u001b[0;34m\u001b[0m\u001b[0;34m\u001b[0m\u001b[0m\n",
      "\u001b[0;32m/mnt/analysis/dev/testing_system/test_notebooks/ds4n6_lib/common.py\u001b[0m in \u001b[0;36mdict_source_identify_func\u001b[0;34m(dict)\u001b[0m\n\u001b[1;32m    630\u001b[0m \u001b[0;34m\u001b[0m\u001b[0m\n\u001b[1;32m    631\u001b[0m     \u001b[0;31m# Identify the common substring\u001b[0m\u001b[0;34m\u001b[0m\u001b[0;34m\u001b[0m\u001b[0;34m\u001b[0m\u001b[0m\n\u001b[0;32m--> 632\u001b[0;31m     \u001b[0meltype1\u001b[0m   \u001b[0;34m=\u001b[0m \u001b[0meltypes\u001b[0m\u001b[0;34m[\u001b[0m\u001b[0;36m0\u001b[0m\u001b[0;34m]\u001b[0m\u001b[0;34m\u001b[0m\u001b[0;34m\u001b[0m\u001b[0m\n\u001b[0m\u001b[1;32m    633\u001b[0m     \u001b[0meltype1cs\u001b[0m \u001b[0;34m=\u001b[0m \u001b[0meltype1\u001b[0m\u001b[0;34m.\u001b[0m\u001b[0msplit\u001b[0m\u001b[0;34m(\u001b[0m\u001b[0;34m\"-\"\u001b[0m\u001b[0;34m)\u001b[0m\u001b[0;34m\u001b[0m\u001b[0;34m\u001b[0m\u001b[0m\n\u001b[1;32m    634\u001b[0m \u001b[0;34m\u001b[0m\u001b[0m\n",
      "\u001b[0;31mIndexError\u001b[0m: list index out of range"
     ]
    }
   ],
   "source": [
    "xmenu(kpdfs)"
   ]
  },
  {
   "cell_type": "code",
   "execution_count": 35,
   "metadata": {},
   "outputs": [],
   "source": [
    "df = d4.out"
   ]
  },
  {
   "cell_type": "code",
   "execution_count": 36,
   "metadata": {},
   "outputs": [
    {
     "ename": "AttributeError",
     "evalue": "'dict' object has no attribute 'simple'",
     "output_type": "error",
     "traceback": [
      "\u001b[0;31m---------------------------------------------------------------------------\u001b[0m",
      "\u001b[0;31mAttributeError\u001b[0m                            Traceback (most recent call last)",
      "\u001b[0;32m<ipython-input-36-8334ef0c29ee>\u001b[0m in \u001b[0;36m<module>\u001b[0;34m\u001b[0m\n\u001b[0;32m----> 1\u001b[0;31m \u001b[0mdf\u001b[0m\u001b[0;34m.\u001b[0m\u001b[0msimple\u001b[0m\u001b[0;34m(\u001b[0m\u001b[0;34m)\u001b[0m\u001b[0;34m\u001b[0m\u001b[0;34m\u001b[0m\u001b[0m\n\u001b[0m",
      "\u001b[0;31mAttributeError\u001b[0m: 'dict' object has no attribute 'simple'"
     ]
    }
   ],
   "source": [
    "#df.simple()"
   ]
  },
  {
   "cell_type": "code",
   "execution_count": null,
   "metadata": {},
   "outputs": [],
   "source": []
  }
 ],
 "metadata": {
  "kernelspec": {
   "display_name": "Python 3",
   "language": "python",
   "name": "python3"
  },
  "language_info": {
   "codemirror_mode": {
    "name": "ipython",
    "version": 3
   },
   "file_extension": ".py",
   "mimetype": "text/x-python",
   "name": "python",
   "nbconvert_exporter": "python",
   "pygments_lexer": "ipython3",
   "version": "3.7.6"
  }
 },
 "nbformat": 4,
 "nbformat_minor": 4
}
